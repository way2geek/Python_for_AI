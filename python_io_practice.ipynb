{
 "cells": [
  {
   "cell_type": "markdown",
   "id": "0b3dd32b-9205-40e4-a86c-1dfe9c51ff7c",
   "metadata": {},
   "source": [
    "## Lab Demo COMP7035 Lab 4 Extra\n",
    "### Objective \n",
    "- File I/O  \n",
    "- Directory"
   ]
  },
  {
   "cell_type": "markdown",
   "id": "a88c9760",
   "metadata": {},
   "source": [
    "## Exercise"
   ]
  },
  {
   "cell_type": "markdown",
   "id": "238e916a",
   "metadata": {},
   "source": [
    "### Write a python program to find the *FIRST* longest word in districts.txt."
   ]
  },
  {
   "cell_type": "code",
   "execution_count": 24,
   "id": "e34b368e",
   "metadata": {},
   "outputs": [
    {
     "name": "stdout",
     "output_type": "stream",
     "text": [
      "Southern\n"
     ]
    }
   ],
   "source": [
    "#Write your code here\n",
    "def longest_word(file):\n",
    "    with open(file) as fo:\n",
    "        data =fo.read()\n",
    "        data = data.replace(\"\\n\",' ')\n",
    "        data = data.split()\n",
    "    maxlength=-1\n",
    "    words ='' \n",
    "    for i in data:\n",
    "        if len(i) > maxlength:\n",
    "            maxlength=len(i)\n",
    "            words = i\n",
    "    return words\n",
    "print(longest_word('data/districts.txt'))"
   ]
  },
  {
   "cell_type": "markdown",
   "id": "bd031cb8-2a7a-443c-a3db-1d8dcce20394",
   "metadata": {},
   "source": [
    "### Write a python program to count the frequency of words in districts.txt."
   ]
  },
  {
   "cell_type": "code",
   "execution_count": 28,
   "id": "d95c0ffc-757e-4ad7-a6ef-7d1760218403",
   "metadata": {},
   "outputs": [
    {
     "name": "stdout",
     "output_type": "stream",
     "text": [
      "{'Islands': 1, 'Kwai': 1, 'Tsing': 1, 'North': 1, 'Sai': 1, 'Kung': 1, 'Sha': 1, 'Tin': 1, 'Tai': 2, 'Po': 2, 'Tsuen': 1, 'Wan': 2, 'Tuen': 1, 'Mun': 1, 'Yuen': 1, 'Long': 1, 'Kowloon': 1, 'City': 1, 'Kwun': 1, 'Tong': 1, 'Sham': 1, 'Shui': 1, 'Wong': 1, 'Sin': 1, 'Yau': 1, 'Tsim': 1, 'Mong': 1, 'Central': 1, 'and': 1, 'Western': 1, 'Eastern': 1, 'Southern': 1, 'Chai': 1}\n"
     ]
    }
   ],
   "source": [
    "#Write your code here\n",
    "def word_count(filename):\n",
    "    dicts = {}\n",
    "    with open(filename) as fo:\n",
    "        data =fo.read()\n",
    "        data = data.replace(\"\\n\",' ')\n",
    "        data = data.split()\n",
    "    for i in data:\n",
    "        if i in dicts:\n",
    "            dicts[i]=dicts[i]+1\n",
    "        else:\n",
    "            dicts[i]=1\n",
    "    return dicts\n",
    "print(word_count('data/districts.txt'))"
   ]
  },
  {
   "cell_type": "markdown",
   "id": "3f24a6d6-eea9-43c1-a1b7-95c53a1ebe4c",
   "metadata": {},
   "source": [
    "### Write a python program to print the first 5 districts in districts.txt.  \n",
    "The rstrip() method removes any trailing characters (characters at the end a string), space is the default trailing character to remove.  \n",
    "[W3C Python String rstrip()](https://www.w3schools.com/python/ref_string_rstrip.asp)"
   ]
  },
  {
   "cell_type": "code",
   "execution_count": 43,
   "id": "20f270ac-cc21-43de-b7a7-08b76463bc94",
   "metadata": {},
   "outputs": [
    {
     "name": "stdout",
     "output_type": "stream",
     "text": [
      "Islands\n",
      "Kwai Tsing\n",
      "North\n",
      "Sai Kung\n",
      "Sha Tin\n",
      "None\n"
     ]
    }
   ],
   "source": [
    "#Write your code here\n",
    "def longest_word(file):\n",
    "    with open(file) as fo:\n",
    "        count= 0\n",
    "        for line in fo.readlines():  \n",
    "            if count == 5 :\n",
    "                break\n",
    "            print(line.rstrip())\n",
    "            count=count+1\n",
    "            \n",
    "print(longest_word('data/districts.txt'))"
   ]
  },
  {
   "cell_type": "markdown",
   "id": "9f580cdf-f166-4e3e-a62b-c74f4cdd8829",
   "metadata": {},
   "source": [
    "### Write a python program to count the number of lines in districts.txt.\n",
    "\n",
    "you may use the following function to complete the task  \n",
    "The `enumerate()` function takes a collection (e.g. a tuple) and returns it as an enumerate object.  \n",
    "The `enumerate()` function adds a counter as the key of the enumerate object.  \n",
    "[W3C Python enumerate() Function](https://www.w3schools.com/python/ref_func_enumerate.asp)"
   ]
  },
  {
   "cell_type": "code",
   "execution_count": 55,
   "id": "48ba28e9-11ce-4640-bf9b-4488978d1710",
   "metadata": {},
   "outputs": [
    {
     "name": "stdout",
     "output_type": "stream",
     "text": [
      "[(0, 'Islands'), (1, 'Kwai Tsing'), (2, 'North'), (3, 'Sai Kung'), (4, 'Sha Tin'), (5, 'Tai Po'), (6, 'Tsuen Wan'), (7, 'Tuen Mun'), (8, 'Yuen Long'), (9, 'Kowloon City'), (10, 'Kwun Tong'), (11, 'Sham Shui Po'), (12, 'Wong Tai Sin'), (13, 'Yau Tsim Mong'), (14, 'Central and Western'), (15, 'Eastern'), (16, 'Southern'), (17, 'Wan Chai'), (18, '')]\n"
     ]
    }
   ],
   "source": [
    "#Write your code here\n",
    "data = []\n",
    "with open('data/districts.txt') as fo:\n",
    "    data =fo.read()\n",
    "    data = data.split(\"\\n\")\n",
    "    tp = tuple(data)\n",
    "y=enumerate(tp)\n",
    "print(list(y))"
   ]
  },
  {
   "cell_type": "markdown",
   "id": "b6c2cb7e-7672-414d-9481-bc2639754a9e",
   "metadata": {},
   "source": [
    "### Write a python program to read a random district in districts.txt.\n",
    "\n",
    "The splitlines() method splits a string into a list. The splitting is done at line breaks.  \n",
    "[W3C Python String splitlines()](https://www.w3schools.com/python/ref_string_splitlines.asp)\n",
    "\n",
    "The choice() method returns a randomly selected element from the specified sequence.  \n",
    "[W3C Python Random choice()](https://www.w3schools.com/python/ref_random_choice.asp)"
   ]
  },
  {
   "cell_type": "code",
   "execution_count": 60,
   "id": "960036bb-ed66-4384-be6f-735f7d8d8c7f",
   "metadata": {},
   "outputs": [
    {
     "name": "stdout",
     "output_type": "stream",
     "text": [
      "Kwun Tong\n"
     ]
    }
   ],
   "source": [
    "#Write your code here\n",
    "import random\n",
    "with open('data/districts.txt') as fo:\n",
    "    data =fo.read()\n",
    "    data = data.splitlines()\n",
    "    print(random.choice(data))"
   ]
  },
  {
   "cell_type": "markdown",
   "id": "f92cc5d5-0728-44af-9501-56d447894f24",
   "metadata": {},
   "source": [
    "## VISUALIZING WORD FREQUENCIES WITH A WORD CLOUD\n",
    "[wordcloud.PyPI](https://pypi.org/project/wordcloud/)  \n",
    "the following exercise will create a word cloud to visualize the frequencies in a dictionary"
   ]
  },
  {
   "cell_type": "code",
   "execution_count": 61,
   "id": "a990e18a-e832-426f-9037-eefa9b9bdf96",
   "metadata": {},
   "outputs": [
    {
     "name": "stdout",
     "output_type": "stream",
     "text": [
      "Collecting wordcloud\n",
      "  Downloading wordcloud-1.8.2.2-cp38-cp38-macosx_10_9_x86_64.whl (158 kB)\n",
      "\u001b[K     |████████████████████████████████| 158 kB 1.3 MB/s eta 0:00:01\n",
      "\u001b[?25hRequirement already satisfied: numpy>=1.6.1 in ./anaconda/anaconda3/lib/python3.8/site-packages (from wordcloud) (1.20.1)\n",
      "Requirement already satisfied: pillow in ./anaconda/anaconda3/lib/python3.8/site-packages (from wordcloud) (8.2.0)\n",
      "Requirement already satisfied: matplotlib in ./anaconda/anaconda3/lib/python3.8/site-packages (from wordcloud) (3.3.4)\n",
      "Requirement already satisfied: pyparsing!=2.0.4,!=2.1.2,!=2.1.6,>=2.0.3 in ./anaconda/anaconda3/lib/python3.8/site-packages (from matplotlib->wordcloud) (2.4.7)\n",
      "Requirement already satisfied: cycler>=0.10 in ./anaconda/anaconda3/lib/python3.8/site-packages (from matplotlib->wordcloud) (0.10.0)\n",
      "Requirement already satisfied: kiwisolver>=1.0.1 in ./anaconda/anaconda3/lib/python3.8/site-packages (from matplotlib->wordcloud) (1.3.1)\n",
      "Requirement already satisfied: python-dateutil>=2.1 in ./anaconda/anaconda3/lib/python3.8/site-packages (from matplotlib->wordcloud) (2.8.1)\n",
      "Requirement already satisfied: six in ./anaconda/anaconda3/lib/python3.8/site-packages (from cycler>=0.10->matplotlib->wordcloud) (1.15.0)\n",
      "Installing collected packages: wordcloud\n",
      "Successfully installed wordcloud-1.8.2.2\n"
     ]
    }
   ],
   "source": [
    "!pip install wordcloud"
   ]
  },
  {
   "cell_type": "code",
   "execution_count": 62,
   "id": "6b956893-1d37-413d-8e27-d25c357e7dac",
   "metadata": {},
   "outputs": [],
   "source": [
    "from wordcloud import WordCloud\n",
    "wordcloud = WordCloud(colormap='prism', background_color='white')"
   ]
  },
  {
   "cell_type": "code",
   "execution_count": 64,
   "id": "279a4ec3-1b8d-467f-9e05-d7949bfb3449",
   "metadata": {},
   "outputs": [],
   "source": [
    "wordcloud = wordcloud.fit_words(word_count('data/districts.txt'))\n",
    "wordcloud = wordcloud.to_file('data/Districts.png')"
   ]
  },
  {
   "cell_type": "code",
   "execution_count": 66,
   "id": "9a67bfc6-3c0d-4bbd-aef9-5c8f45e4ef46",
   "metadata": {},
   "outputs": [
    {
     "data": {
      "image/png": "[encoded data removed]",
      "text/plain": [
       "<IPython.core.display.Image object>"
      ]
     },
     "execution_count": 66,
     "metadata": {},
     "output_type": "execute_result"
    }
   ],
   "source": [
    "from IPython import display\n",
    "display.Image('data/Districts.png')"
   ]
  },
  {
   "cell_type": "markdown",
   "id": "5dc741f4-d4b3-4f63-aca2-6b80b55d12f8",
   "metadata": {},
   "source": [
    "## You can create another dictionary to play around!"
   ]
  }
 ],
 "metadata": {
  "kernelspec": {
   "display_name": "Python 3",
   "language": "python",
   "name": "python3"
  },
  "language_info": {
   "codemirror_mode": {
    "name": "ipython",
    "version": 3
   },
   "file_extension": ".py",
   "mimetype": "text/x-python",
   "name": "python",
   "nbconvert_exporter": "python",
   "pygments_lexer": "ipython3",
   "version": "3.8.8"
  }
 },
 "nbformat": 4,
 "nbformat_minor": 5
}
