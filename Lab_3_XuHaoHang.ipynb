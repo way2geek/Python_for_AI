{
 "cells": [
  {
   "cell_type": "markdown",
   "metadata": {
    "nteract": {
     "transient": {
      "deleting": false
     }
    }
   },
   "source": [
    "## Lab Demo COMP7035 Week 3\n",
    "### Objective \n",
    "- Use of Lists  \n",
    "- Use of Tuples  \n",
    "- Use of Sets  \n",
    "- Use of Dictionary"
   ]
  },
  {
   "cell_type": "markdown",
   "metadata": {},
   "source": [
    "Methods of Lists"
   ]
  },
  {
   "cell_type": "code",
   "execution_count": 6,
   "metadata": {},
   "outputs": [
    {
     "name": "stdout",
     "output_type": "stream",
     "text": [
      "['r', 'e', 'n', 'j', 'i', 'e', 'w', 'a', 'n', '@', 'comp.', 'h', 'k', 'b', 'u', '.', 'e', 'd', 'u', '.', 'h', 'k']\n",
      "renjiewan@comp.hkbu.edu.hk\n"
     ]
    }
   ],
   "source": [
    "email = \"renjiewan@hkbu.edu.hk\"\n",
    "list1 = list(email)\n",
    "list1.insert(list1.index('@')+1, 'comp.')\n",
    "print(list1)\n",
    "email = \"\".join(list1)\n",
    "print(email)"
   ]
  },
  {
   "cell_type": "markdown",
   "metadata": {},
   "source": [
    "Below is an exmaple to accept an phone number and format the result.  \n",
    "You can use it to format for the currency as well."
   ]
  },
  {
   "cell_type": "code",
   "execution_count": 9,
   "metadata": {
    "jupyter": {
     "outputs_hidden": false
    },
    "pycharm": {
     "name": "#%%\n"
    }
   },
   "outputs": [
    {
     "name": "stdout",
     "output_type": "stream",
     "text": [
      "Please enter a phone number 456456456\n",
      "['4', '5', '6', '4', '-', '5', '6', '4', '5', '6']\n",
      "4564-56456\n"
     ]
    }
   ],
   "source": [
    "tel = input(\"Please enter a phone number \")\n",
    "list1  = list(tel)\n",
    "list1.insert(4,'-')\n",
    "print(list1)\n",
    "tel=str(''.join(list1))\n",
    "print(tel)"
   ]
  },
  {
   "cell_type": "markdown",
   "metadata": {},
   "source": [
    "If we wish to deal with the wordings in a sentence"
   ]
  },
  {
   "cell_type": "code",
   "execution_count": 13,
   "metadata": {},
   "outputs": [
    {
     "name": "stdout",
     "output_type": "stream",
     "text": [
      "Please input a sentence Please input a sentence \n",
      "['Please', 'input', 'a', 'sentence']\n",
      "the first word Please\n",
      "the last word sentence\n"
     ]
    }
   ],
   "source": [
    "sentence = input(\"Please input a sentence \")\n",
    "words =sentence.split()\n",
    "print(words)\n",
    "print('the first word' ,words[0])\n",
    "print('the last word',words[-1])"
   ]
  },
  {
   "cell_type": "markdown",
   "metadata": {},
   "source": [
    "Use of Sets"
   ]
  },
  {
   "cell_type": "code",
   "execution_count": 26,
   "metadata": {},
   "outputs": [
    {
     "name": "stdout",
     "output_type": "stream",
     "text": [
      "['Mary', 'had', 'a', 'little', 'lamb', 'Little', 'lamb', 'little', 'lamb', 'Mary', 'had', 'a', 'little', 'lamb', 'Its', 'fleece', 'was', 'white', 'as', 'snow']\n",
      "{'had', 'Its', 'Little', 'fleece', 'as', 'snow', 'little', 'lamb', 'white', 'was', 'a', 'Mary'}\n",
      "There are 12 unique words in this poem\n"
     ]
    }
   ],
   "source": [
    "poem = \"Mary had a little lamb, Little lamb, little lamb, Mary had a little lamb, Its fleece was white as snow\"\n",
    "poem = poem.replace(',','')\n",
    "poem = poem.split()\n",
    "print(poem)\n",
    "set1 = set(list1)\n",
    "print(set1)\n",
    "print(\"There are {0} unique words in this poem\".format(len(set1)))"
   ]
  },
  {
   "cell_type": "markdown",
   "metadata": {
    "nteract": {
     "transient": {
      "deleting": false
     }
    }
   },
   "source": [
    "Dictionary is a very useful data structure in Python:"
   ]
  },
  {
   "cell_type": "code",
   "execution_count": 28,
   "metadata": {
    "nteract": {
     "transient": {
      "deleting": false
     }
    },
    "tags": []
   },
   "outputs": [
    {
     "name": "stdout",
     "output_type": "stream",
     "text": [
      "12 23 8\n",
      "{'a': 12, 'b': 23, 'abc': 8, 'cp3': 98}\n"
     ]
    }
   ],
   "source": [
    "dict1 = {'a': 12, 'b': 23, 'abc': 8}\n",
    "print(dict1['a'], dict1['b'], dict1['abc'])\n",
    "dict1['cp3'] = 98\n",
    "print(dict1)"
   ]
  },
  {
   "cell_type": "markdown",
   "metadata": {},
   "source": [
    "Here, `a`, `b` and `abc` are the **keys** of this dictionary, and `12`, `23` and `8` are their corresponding values.\n",
    "\n",
    "Let's initialize a dictionary."
   ]
  },
  {
   "cell_type": "code",
   "execution_count": 30,
   "metadata": {},
   "outputs": [
    {
     "name": "stdout",
     "output_type": "stream",
     "text": [
      "{'a': 0, 'b': 0, 'c': 0, 'd': 0, 'e': 0, 'f': 0, 'g': 0, 'h': 0, 'i': 0, 'j': 0, 'k': 0, 'l': 0, 'm': 0, 'n': 0, 'o': 0, 'p': 0, 'q': 0, 'r': 0, 's': 0, 't': 0, 'u': 0, 'v': 0, 'w': 0, 'x': 0, 'y': 0, 'z': 0}\n"
     ]
    }
   ],
   "source": [
    "smallLetters = {}\n",
    "for i in range(0,26):\n",
    "    smallLetters[chr(i+97)]=0\n",
    "print(smallLetters)\n"
   ]
  },
  {
   "cell_type": "code",
   "execution_count": 32,
   "metadata": {},
   "outputs": [
    {
     "name": "stdout",
     "output_type": "stream",
     "text": [
      "{'a': 29, 'b': 3, 'c': 14, 'd': 12, 'e': 33, 'f': 3, 'g': 15, 'h': 10, 'i': 23, 'j': 2, 'k': 0, 'l': 21, 'm': 8, 'n': 19, 'o': 20, 'p': 13, 'q': 0, 'r': 19, 's': 21, 't': 22, 'u': 5, 'v': 1, 'w': 3, 'x': 0, 'y': 7, 'z': 1}\n"
     ]
    }
   ],
   "source": [
    "message ='Python is an interpreted high-level general-purpose programming language. Its design philosophy emphasizes code readability with its use of significant indentation. Its language constructs as well as its object-oriented approach aim to help programmers write clear, logical code for small and large-scale projects.[30] Python is dynamically-typed and garbage-collected.'\n",
    "for i in message:\n",
    "    if i >= 'a' and i <= 'z':\n",
    "        smallLetters[i] += 1\n",
    "print(smallLetters)"
   ]
  },
  {
   "cell_type": "markdown",
   "metadata": {},
   "source": [
    "The difference between 'A' and 'a' is 32. Same as all other pairs of small and capital letters.  \n",
    "![ASCII_table](https://upload.wikimedia.org/wikipedia/commons/thumb/d/dd/ASCII-Table.svg/1107px-ASCII-Table.svg.png)"
   ]
  },
  {
   "cell_type": "code",
   "execution_count": 33,
   "metadata": {},
   "outputs": [
    {
     "name": "stdout",
     "output_type": "stream",
     "text": [
      "[29, 3, 14, 12, 33, 3, 15, 10, 25, 2, 0, 21, 8, 19, 20, 15, 0, 19, 21, 22, 5, 1, 3, 0, 7, 1]\n"
     ]
    }
   ],
   "source": [
    "letters = [0] * 26\n",
    "for char in message:\n",
    "    if char >= 'A' and char <= 'Z':\n",
    "        letters[ord(char) - 65] += 1\n",
    "    elif char >= 'a' and char <= 'z':\n",
    "        letters[ord(char) - 97] += 1\n",
    "print(letters)"
   ]
  },
  {
   "cell_type": "code",
   "execution_count": null,
   "metadata": {},
   "outputs": [],
   "source": []
  }
 ],
 "metadata": {
  "gist_id": "5cf6e153096947da7ad5a7abe3a530bd",
  "kernel_info": {
   "name": "python3"
  },
  "kernelspec": {
   "display_name": "Python 3",
   "language": "python",
   "name": "python3"
  },
  "language_info": {
   "codemirror_mode": {
    "name": "ipython",
    "version": 3
   },
   "file_extension": ".py",
   "mimetype": "text/x-python",
   "name": "python",
   "nbconvert_exporter": "python",
   "pygments_lexer": "ipython3",
   "version": "3.8.8"
  },
  "nteract": {
   "version": "0.28.0"
  }
 },
 "nbformat": 4,
 "nbformat_minor": 4
}
