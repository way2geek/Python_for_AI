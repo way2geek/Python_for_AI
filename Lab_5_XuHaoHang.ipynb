{
 "cells": [
  {
   "cell_type": "markdown",
   "id": "28c3c018-ad62-4e88-8f81-7076be64b858",
   "metadata": {},
   "source": [
    "## Lab Demo COMP7035 Topic 5\n",
    "### Objective \n",
    "- Numpy arrays\n",
    "- Numpy Indexing and Selection\n",
    "- Numpy Operation"
   ]
  },
  {
   "cell_type": "markdown",
   "id": "1a60998c-8419-4991-8dbe-9c8fe44e9231",
   "metadata": {},
   "source": [
    "## What is NumPy ?\n",
    "\n",
    "- **NumPy** (standing for Numerical Python) is a popular library in Python that can efficiently process **multidimensional data arrays**. It is also the foundation of other advanced Python libraries such as **Pandas**.\n",
    "\n",
    "**Examples of 1‐dimensinoal array**: the elements must have the same data type"
   ]
  },
  {
   "cell_type": "code",
   "execution_count": 1,
   "id": "7e407d1a-5681-45e9-b02c-ef0c3af58cbd",
   "metadata": {},
   "outputs": [
    {
     "data": {
      "text/plain": [
       "['Sam', 'John', 'Zoe']"
      ]
     },
     "execution_count": 1,
     "metadata": {},
     "output_type": "execute_result"
    }
   ],
   "source": [
    "[2,7,10,6] # an array of integers, shape is (4)\n",
    "[73.5, 67.0, 75.5, 58.5, 92.0] # an array of stduent grades or stock prices, shape is (5)\n",
    "['Sam', 'John', 'Zoe'] # an array of names, shape is (3)"
   ]
  },
  {
   "cell_type": "markdown",
   "id": "a5e72fc5-df3d-4060-818f-a9662a94be3c",
   "metadata": {},
   "source": [
    "**Example of 2‐diminsionial array**: an array of array with the same shape and data type"
   ]
  },
  {
   "cell_type": "code",
   "execution_count": 2,
   "id": "7b7d2a79-622e-4e3f-b69e-9e4ba8b6ddb5",
   "metadata": {},
   "outputs": [
    {
     "data": {
      "text/plain": [
       "[[3, 6, 4, 8], [2, 7, 5, 9], [4, 8, 6, 1]]"
      ]
     },
     "execution_count": 2,
     "metadata": {},
     "output_type": "execute_result"
    }
   ],
   "source": [
    "[[3,6,4,8],\n",
    "[2,7,5,9],\n",
    "[4,8,6,1]] \n",
    "\n",
    "\n",
    "\n",
    "# an array with 3 elements, each element is an array with 4 integers, shape is (3,4)"
   ]
  },
  {
   "cell_type": "markdown",
   "id": "f1fa6576-3f4c-4c3a-8ac0-c94769ecda99",
   "metadata": {},
   "source": [
    "## List vs. Array\n",
    "\n",
    "- Arrays need extra declaration while lists don’t.\n",
    "- Lists are generally used more often between the two, which works fine most of the time. \n",
    "- If you're going to perform arithmetic functions to your lists, you should really be using arrays instead. \n",
    "- Arrays will store your data more compactly and efficiently. "
   ]
  },
  {
   "cell_type": "markdown",
   "id": "f826241a-ad60-42d2-91dd-d83da591acdf",
   "metadata": {},
   "source": [
    "## The major features of NumPy\n",
    "- Easily generate and store data in memory in the form of multidimensional array\n",
    "- Easily load and store data on disk in **binary**, **text**, or **CSV format**\n",
    "- Support **efficient** operations on data arrays, including basic arithmetic and logical operations, shape manipulation, data sorting, data slicing, linear algebra, statistical operation, discrete Fourier transform, etc.\n",
    "- Vectorised computation: simple syntax for elementwise operations without using loops (e.g., **a** = **b** + **c** where **a**, **b**, and **c** are three multidimensional arrays with same shape)."
   ]
  },
  {
   "cell_type": "markdown",
   "id": "ac2dbb4a-7e72-45a2-b16c-de5ae941e74f",
   "metadata": {},
   "source": [
    "## Numpy Basics"
   ]
  },
  {
   "cell_type": "markdown",
   "id": "88a8d070-a706-44ec-bf9a-50de32d2d8d5",
   "metadata": {
    "tags": []
   },
   "source": [
    "### Create an array of the integers from 20 to 50."
   ]
  },
  {
   "cell_type": "code",
   "execution_count": 56,
   "id": "ce811d7b-a3fd-40e8-961e-992625ca177a",
   "metadata": {},
   "outputs": [
    {
     "name": "stdout",
     "output_type": "stream",
     "text": [
      "Array of the integers from 20 to 50\n",
      "[20 21 22 23 24 25 26 27 28 29 30 31 32 33 34 35 36 37 38 39 40 41 42 43\n",
      " 44 45 46 47 48 49 50]\n"
     ]
    }
   ],
   "source": [
    "import numpy as np\n",
    "# arange(start, stop): Values are generated within the half-open interval [start, stop)\n",
    "# The interval including start but excluding stop\n",
    "array=np.arange(20,51)\n",
    "print(\"Array of the integers from 20 to 50\")\n",
    "print(array)\n",
    "\n",
    "\n",
    "# arange(start, stop): Values are generated within the half-open interval [start, stop).\n",
    "# The interval including start but excluding stop\n",
    "\n"
   ]
  },
  {
   "cell_type": "markdown",
   "id": "591e20ac-2d85-46ec-a237-b539868ce507",
   "metadata": {},
   "source": [
    "### Create an array of the integers from 0 to 50 with evenly spacing of 10."
   ]
  },
  {
   "cell_type": "code",
   "execution_count": 57,
   "id": "6ec2d2bd-723c-4682-8eaf-8736781b5e61",
   "metadata": {},
   "outputs": [
    {
     "name": "stdout",
     "output_type": "stream",
     "text": [
      "[ 0.  10.2 20.4 30.6 40.8 51. ]\n",
      "[ 0. 10. 20. 30. 40. 50.]\n"
     ]
    }
   ],
   "source": [
    "import numpy as np\n",
    "array = np.linspace(0,51,6)\n",
    "print(array)\n",
    "array = np.linspace(0,50,6)\n",
    "print(array)\n",
    "\n",
    "\n"
   ]
  },
  {
   "cell_type": "markdown",
   "id": "5f4479a3-6cb4-4c3f-af5e-ea8fd255934f",
   "metadata": {},
   "source": [
    "### Show different prpoerties of the numpy array"
   ]
  },
  {
   "cell_type": "code",
   "execution_count": 58,
   "id": "26bb6ddb-cefe-46d9-9f31-11e9792d80ce",
   "metadata": {},
   "outputs": [
    {
     "name": "stdout",
     "output_type": "stream",
     "text": [
      "[ 0  1  2  3  4  5  6  7  8  9 10 11 12 13 14 15 16 17 18 19]\n",
      "[[ 0  1  2  3  4]\n",
      " [ 5  6  7  8  9]\n",
      " [10 11 12 13 14]\n",
      " [15 16 17 18 19]]\n",
      "<class 'numpy.ndarray'>\n",
      "2\n",
      "(4, 5)\n",
      "int32\n",
      "4\n",
      "20\n"
     ]
    }
   ],
   "source": [
    "array = np.arange(20) \n",
    "print(array) \n",
    "array = array.reshape(4,5)\n",
    "print(array)\n",
    "print(type(array))\n",
    "print(array.ndim)\n",
    "print(array.shape)\n",
    "print(array.dtype) \n",
    "print(array.itemsize) \n",
    "print(array.size)"
   ]
  },
  {
   "cell_type": "markdown",
   "id": "e640dcf9-508e-4258-a440-16cced1dbbaa",
   "metadata": {},
   "source": [
    "### Create an array of the integers from 9 to 31 and print all values except the first and the last."
   ]
  },
  {
   "cell_type": "code",
   "execution_count": 22,
   "id": "ebd318ef-5ecd-4a33-8932-8582fb05b820",
   "metadata": {},
   "outputs": [
    {
     "name": "stdout",
     "output_type": "stream",
     "text": [
      "[10 11 12 13 14 15 16 17 18 19 20 21 22 23 24 25 26 27 28 29 30]\n"
     ]
    }
   ],
   "source": [
    "array = np.arange(9,32) \n",
    "print(array[1:-1])"
   ]
  },
  {
   "cell_type": "markdown",
   "id": "02d85ef0-8ab1-4df8-9181-32bde87c54ea",
   "metadata": {},
   "source": [
    "### Create an array of 5 zeros, 5 ones, 5 fives"
   ]
  },
  {
   "cell_type": "code",
   "execution_count": 27,
   "id": "f03be9fe-b7a6-4a37-b0d8-8a1337a37360",
   "metadata": {},
   "outputs": [
    {
     "name": "stdout",
     "output_type": "stream",
     "text": [
      "An array of 5 zeros:\n",
      "[0. 0. 0. 0. 0.]\n",
      "An array of 5 ones:\n",
      "[1. 1. 1. 1. 1.]\n",
      "An array of 5 fives:\n",
      "[5. 5. 5. 5. 5.]\n"
     ]
    }
   ],
   "source": [
    "array = np.zeros(5)\n",
    "print(\"An array of 5 zeros:\")\n",
    "print(array)\n",
    "array = np.ones(5)\n",
    "print(\"An array of 5 ones:\")\n",
    "print(array)\n",
    "array = np.ones(5)*5\n",
    "print(\"An array of 5 fives:\")\n",
    "print(array)"
   ]
  },
  {
   "cell_type": "markdown",
   "id": "1f480020-8431-4f32-a590-4e87603c49b9",
   "metadata": {},
   "source": [
    "### Create a 5x5 zero matrix with elements with the diagonal equal to 5, 4, 3, 2, 1"
   ]
  },
  {
   "cell_type": "code",
   "execution_count": 28,
   "id": "cf71fd0b-5f61-4b88-b03e-5d521e959209",
   "metadata": {},
   "outputs": [
    {
     "name": "stdout",
     "output_type": "stream",
     "text": [
      "[[5 0 0 0 0]\n",
      " [0 4 0 0 0]\n",
      " [0 0 3 0 0]\n",
      " [0 0 0 2 0]\n",
      " [0 0 0 0 1]]\n"
     ]
    }
   ],
   "source": [
    "array = np.diag([5, 4, 3, 2, 1])\n",
    "print(array)"
   ]
  },
  {
   "cell_type": "markdown",
   "id": "37bfcbd7-8534-4f73-82cc-caed27aeb80e",
   "metadata": {},
   "source": [
    "### Find missing item in a given array"
   ]
  },
  {
   "cell_type": "code",
   "execution_count": 32,
   "id": "fa61230a-9109-49af-9a6f-6b33cb77e532",
   "metadata": {},
   "outputs": [
    {
     "name": "stdout",
     "output_type": "stream",
     "text": [
      "[[False False  True False]\n",
      " [ True False False False]\n",
      " [False  True False False]]\n"
     ]
    }
   ],
   "source": [
    "\n",
    "array = np.array([[1, 2, np.nan, 3],\n",
    " [np.nan, 5, 6, 7],\n",
    " [8, np.nan, 10, 11]])\n",
    "print(np.isnan(array))"
   ]
  },
  {
   "cell_type": "markdown",
   "id": "af22b08b-612d-4487-a861-13919050f81d",
   "metadata": {},
   "source": [
    "### Indexing row and column"
   ]
  },
  {
   "cell_type": "code",
   "execution_count": 37,
   "id": "ff46e985-4661-4a54-9059-552c5e84a500",
   "metadata": {},
   "outputs": [
    {
     "name": "stdout",
     "output_type": "stream",
     "text": [
      "[20 25 30]\n"
     ]
    }
   ],
   "source": [
    "array = np.array(([5,10,15],[20,25,30],[35,40,45]))\n",
    "print(array[1])"
   ]
  },
  {
   "cell_type": "code",
   "execution_count": 38,
   "id": "1501c3ce-caeb-42c2-aeda-67cbf059b049",
   "metadata": {},
   "outputs": [
    {
     "name": "stdout",
     "output_type": "stream",
     "text": [
      "20\n"
     ]
    }
   ],
   "source": [
    "# acceess in individual item\n",
    "print(array[1][0])"
   ]
  },
  {
   "cell_type": "code",
   "execution_count": 55,
   "id": "6a7e21ab-1a63-4b01-9286-8bd08993a540",
   "metadata": {},
   "outputs": [
    {
     "name": "stdout",
     "output_type": "stream",
     "text": [
      "[[ 5 10 15]\n",
      " [20 25 30]\n",
      " [35 40 45]]\n",
      "[[10 15]\n",
      " [25 30]]\n"
     ]
    }
   ],
   "source": [
    "# Array slicing  \n",
    "print(array[:])\n",
    "print(array[0:2,1:3])"
   ]
  },
  {
   "cell_type": "markdown",
   "id": "2af368dd-ef4f-4dd4-bf02-3ef8a789f80f",
   "metadata": {},
   "source": [
    "## More indexing example\n",
    "<img src= 'https://media.geeksforgeeks.org/wp-content/uploads/Numpy1.jpg' width=500/>  \n",
    "Image source: https://www.geeksforgeeks.org/numpy-indexing/"
   ]
  }
 ],
 "metadata": {
  "kernelspec": {
   "display_name": "Python 3",
   "language": "python",
   "name": "python3"
  },
  "language_info": {
   "codemirror_mode": {
    "name": "ipython",
    "version": 3
   },
   "file_extension": ".py",
   "mimetype": "text/x-python",
   "name": "python",
   "nbconvert_exporter": "python",
   "pygments_lexer": "ipython3",
   "version": "3.8.8"
  }
 },
 "nbformat": 4,
 "nbformat_minor": 5
}
