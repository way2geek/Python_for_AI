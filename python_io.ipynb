{
 "cells": [
  {
   "cell_type": "code",
   "execution_count": 63,
   "metadata": {
    "id": "fH-klp7IOZ56"
   },
   "outputs": [],
   "source": [
    "#!/usr/bin/python # Open a file \n",
    "fo = open(\"test.txt\", \"w\") \n",
    "fo.write( \"Python1 is a great language.\\nYeah its great!!\\n\")\n",
    "fo.close()"
   ]
  },
  {
   "cell_type": "code",
   "execution_count": 30,
   "metadata": {
    "id": "urvMMYRwfXnB"
   },
   "outputs": [],
   "source": [
    "with open(\"test.txt\", \"w\") as fo:\n",
    "    fo.write( \"Python2 is a great language.\\nYeah its great!!\\n\")"
   ]
  },
  {
   "cell_type": "code",
   "execution_count": 31,
   "metadata": {
    "colab": {
     "base_uri": "https://localhost:8080/"
    },
    "executionInfo": {
     "elapsed": 4,
     "status": "ok",
     "timestamp": 1664210467077,
     "user": {
      "displayName": "Patrick Wan",
      "userId": "03147485430388044331"
     },
     "user_tz": -480
    },
    "id": "YPQsB0bBOeJl",
    "outputId": "8366c7a6-dbcd-4432-ff6e-1408c87ae2c1"
   },
   "outputs": [
    {
     "name": "stdout",
     "output_type": "stream",
     "text": [
      "Read String is :  Python2 is a great language.\n",
      "Yeah its great!!\n",
      "\n"
     ]
    }
   ],
   "source": [
    "#!/usr/bin/python # Open a file \n",
    "fo = open(\"test.txt\", \"r+\") \n",
    "str2 = fo.read(100); \n",
    "print(\"Read String is : \", str2) \n",
    "# Close opend file \n",
    "fo.close()"
   ]
  },
  {
   "cell_type": "code",
   "execution_count": 32,
   "metadata": {
    "colab": {
     "base_uri": "https://localhost:8080/"
    },
    "executionInfo": {
     "elapsed": 433,
     "status": "ok",
     "timestamp": 1664211348913,
     "user": {
      "displayName": "Patrick Wan",
      "userId": "03147485430388044331"
     },
     "user_tz": -480
    },
    "id": "-E9u8TE4gsyi",
    "outputId": "f045ed27-08b3-482c-b145-27beee37b683"
   },
   "outputs": [
    {
     "name": "stdout",
     "output_type": "stream",
     "text": [
      "Read String is :  Python2 is\n"
     ]
    }
   ],
   "source": [
    "with open(\"test.txt\") as fo:\n",
    "    str2 = fo.read(10)\n",
    "    print(\"Read String is : \", str2) \n"
   ]
  },
  {
   "cell_type": "code",
   "execution_count": 33,
   "metadata": {
    "colab": {
     "base_uri": "https://localhost:8080/"
    },
    "executionInfo": {
     "elapsed": 2,
     "status": "ok",
     "timestamp": 1664211353573,
     "user": {
      "displayName": "Patrick Wan",
      "userId": "03147485430388044331"
     },
     "user_tz": -480
    },
    "id": "QdhkAkkVYdW_",
    "outputId": "583e9c13-6e7e-49be-b1ad-5cafe6e958a9"
   },
   "outputs": [
    {
     "name": "stdout",
     "output_type": "stream",
     "text": [
      "Initial Position: 0\n",
      "Read String is :  Python2 is\n",
      "Current Position: 10\n"
     ]
    }
   ],
   "source": [
    "#!/usr/bin/python # Open a file \n",
    "fo = open(\"test.txt\", \"r+\") \n",
    "print(\"Initial Position:\", fo.tell())\n",
    "\n",
    "str2 = fo.read(10); \n",
    "print(\"Read String is : \", str2) \n",
    "\n",
    "print(\"Current Position:\", fo.tell())\n",
    "# Close opend file \n",
    "fo.close()"
   ]
  },

  {
   "cell_type": "code",
   "execution_count": 34,
   "metadata": {
    "id": "tZlP742tS1vu"
   },
   "outputs": [
    {
     "name": "stdout",
     "output_type": "stream",
     "text": [
      "Enter your input: uiskrkfjs\n",
      "Received input is :  uiskrkfjs\n"
     ]
    }
   ],
   "source": [
    "str2 = input(\"Enter your input: \")\n",
    "print(\"Received input is : \", str2)"
   ]
  },
  {
   "cell_type": "code",
   "execution_count": 35,
   "metadata": {
    "colab": {
     "base_uri": "https://localhost:8080/"
    },
    "executionInfo": {
     "elapsed": 3898,
     "status": "ok",
     "timestamp": 1664036242465,
     "user": {
      "displayName": "Patrick Wan",
      "userId": "03147485430388044331"
     },
     "user_tz": -480
    },
    "id": "VOCQlPwLRqqW",
    "outputId": "77a5f5b0-6e7f-41bd-cc86-e431333e7d00"
   },
   "outputs": [
    {
     "name": "stdout",
     "output_type": "stream",
     "text": [
      "Enter the base:3\n",
      "Enter the height:4\n",
      "The area is: 6.0\n"
     ]
    }
   ],
   "source": [
    "base = int(input(\"Enter the base:\"))\n",
    "height = int(input(\"Enter the height:\"))\n",
    "if base < 0 or height < 0:\n",
    "    print(\"Base and height must be non-negative\")\n",
    "else:\n",
    "    area = 0.5*base*height\n",
    "    print(\"The area is:\", area)"
   ]
  },
  {
   "cell_type": "markdown",
   "metadata": {
    "id": "6EvlEPwwSrow"
   },
   "source": [
    "# Transfer value types"
   ]
  },
  {
   "cell_type": "code",
   "execution_count": 36,
   "metadata": {
    "colab": {
     "base_uri": "https://localhost:8080/"
    },
    "executionInfo": {
     "elapsed": 356,
     "status": "ok",
     "timestamp": 1664250713441,
     "user": {
      "displayName": "Patrick Wan",
      "userId": "03147485430388044331"
     },
     "user_tz": -480
    },
    "id": "ImMpijTqSrR_",
    "outputId": "809d0bb9-8fc6-433e-ca00-52121a04d98d"
   },
   "outputs": [
    {
     "name": "stdout",
     "output_type": "stream",
     "text": [
      "<class 'str'>\n",
      "<class 'int'>\n",
      "<class 'int'>\n",
      "<class 'float'>\n",
      "1.0\n"
     ]
    }
   ],
   "source": [
    "print(type(\"1\"))\n",
    "print(type(int(\"1\")))\n",
    "print(type(1))\n",
    "print(type(float(1)))\n",
    "print(float(1))"
   ]
  },
  {
   "cell_type": "code",
   "execution_count": 37,
   "metadata": {
    "colab": {
     "base_uri": "https://localhost:8080/"
    },
    "executionInfo": {
     "elapsed": 341,
     "status": "ok",
     "timestamp": 1664250813218,
     "user": {
      "displayName": "Patrick Wan",
      "userId": "03147485430388044331"
     },
     "user_tz": -480
    },
    "id": "B8ryZKjKFAnp",
    "outputId": "1f99d983-d132-43c8-f960-f057e91214a3"
   },
   "outputs": [
    {
     "name": "stdout",
     "output_type": "stream",
     "text": [
      "After converting string to tuple : ('g', 'e', 'e', 'k', 's')\n",
      "After converting string to set : {'g', 'e', 's', 'k'}\n",
      "After converting string to list : ['g', 'e', 'e', 'k', 's']\n"
     ]
    }
   ],
   "source": [
    "# Python code to demonstrate Type conversion\n",
    "# using  tuple(), set(), list()\n",
    "  \n",
    "# initializing string\n",
    "s = 'geeks'\n",
    "  \n",
    "# printing string converting to tuple\n",
    "c = tuple(s)\n",
    "print (\"After converting string to tuple : \",end=\"\")\n",
    "print (c)\n",
    "  \n",
    "# printing string converting to set\n",
    "c = set(s)\n",
    "print (\"After converting string to set : \",end=\"\")\n",
    "print (c)\n",
    "  \n",
    "# printing string converting to list\n",
    "c = list(s)\n",
    "print (\"After converting string to list : \",end=\"\")\n",
    "print (c)"
   ]
  },
  {
   "cell_type": "markdown",
   "metadata": {
    "id": "wCnZ2zFPDuNp"
   },
   "source": [
    "# read"
   ]
  },
  {
   "cell_type": "code",
   "execution_count": 38,
   "metadata": {
    "id": "_P8PUWhpTm8R"
   },
   "outputs": [
    {
     "name": "stdout",
     "output_type": "stream",
     "text": [
      "Python2 is a great language.\n",
      "Yeah its great!!\n",
      "\n"
     ]
    }
   ],
   "source": [
    "file = open(\"test.txt\")\n",
    "data = file.read()\n",
    "print(data)\n",
    "\n",
    "file.close()  # It's important to close the file when you're done with it"
   ]
  },
  {
   "cell_type": "markdown",
   "metadata": {
    "id": "c0ilyYtmR30v"
   },
   "source": [
    "# readlines"
   ]
  },
  {
   "cell_type": "code",
   "execution_count": 62,
   "metadata": {
    "colab": {
     "base_uri": "https://localhost:8080/"
    },
    "executionInfo": {
     "elapsed": 319,
     "status": "ok",
     "timestamp": 1664035714520,
     "user": {
      "displayName": "Patrick Wan",
      "userId": "03147485430388044331"
     },
     "user_tz": -480
    },
    "id": "-CNR_EJCZkG0",
    "outputId": "5cbc305d-fb24-4fde-f341-d66d30f0be59"
   },
   "outputs": [
    {
     "ename": "FileNotFoundError",
     "evalue": "[Errno 2] No such file or directory: 'test.txt'",
     "output_type": "error",
     "traceback": [
      "\u001b[0;31m---------------------------------------------------------------------------\u001b[0m",
      "\u001b[0;31mFileNotFoundError\u001b[0m                         Traceback (most recent call last)",
      "\u001b[0;32m<ipython-input-62-7c6584c070ca>\u001b[0m in \u001b[0;36m<module>\u001b[0;34m\u001b[0m\n\u001b[1;32m      1\u001b[0m \u001b[0;31m# open the file\u001b[0m\u001b[0;34m\u001b[0m\u001b[0;34m\u001b[0m\u001b[0;34m\u001b[0m\u001b[0m\n\u001b[0;32m----> 2\u001b[0;31m \u001b[0mfo\u001b[0m \u001b[0;34m=\u001b[0m \u001b[0mopen\u001b[0m\u001b[0;34m(\u001b[0m\u001b[0;34m\"test.txt\"\u001b[0m\u001b[0;34m,\u001b[0m \u001b[0;34m\"r\"\u001b[0m\u001b[0;34m)\u001b[0m\u001b[0;34m\u001b[0m\u001b[0;34m\u001b[0m\u001b[0m\n\u001b[0m\u001b[1;32m      3\u001b[0m \u001b[0mprint\u001b[0m\u001b[0;34m(\u001b[0m\u001b[0;34m\"The file name is:\"\u001b[0m\u001b[0;34m,\u001b[0m \u001b[0mfo\u001b[0m\u001b[0;34m.\u001b[0m\u001b[0mname\u001b[0m\u001b[0;34m)\u001b[0m\u001b[0;34m\u001b[0m\u001b[0;34m\u001b[0m\u001b[0m\n\u001b[1;32m      4\u001b[0m \u001b[0mprint\u001b[0m\u001b[0;34m(\u001b[0m\u001b[0;34m\"First line:\"\u001b[0m\u001b[0;34m,\u001b[0m \u001b[0mfo\u001b[0m\u001b[0;34m.\u001b[0m\u001b[0mreadline\u001b[0m\u001b[0;34m(\u001b[0m\u001b[0;34m)\u001b[0m\u001b[0;34m)\u001b[0m \u001b[0;31m#read the first line\u001b[0m\u001b[0;34m\u001b[0m\u001b[0;34m\u001b[0m\u001b[0m\n\u001b[1;32m      5\u001b[0m \u001b[0mprint\u001b[0m\u001b[0;34m(\u001b[0m\u001b[0;34m\"Second line:\"\u001b[0m\u001b[0;34m,\u001b[0m \u001b[0mfo\u001b[0m\u001b[0;34m.\u001b[0m\u001b[0mreadline\u001b[0m\u001b[0;34m(\u001b[0m\u001b[0;34m)\u001b[0m\u001b[0;34m)\u001b[0m \u001b[0;31m#read the second line\u001b[0m\u001b[0;34m\u001b[0m\u001b[0;34m\u001b[0m\u001b[0m\n",
      "\u001b[0;31mFileNotFoundError\u001b[0m: [Errno 2] No such file or directory: 'test.txt'"
     ]
    }
   ],
   "source": [
    "# open the file \n",
    "fo = open(\"test.txt\", \"r\")\n",
    "print(\"The file name is:\", fo.name)\n",
    "print(\"First line:\", fo.readline()) #read the first line\n",
    "print(\"Second line:\", fo.readline()) #read the second line\n",
    "\n",
    "# close the file \n",
    "fo.close()"
   ]
  },
  {
   "cell_type": "code",
   "execution_count": 40,
   "metadata": {
    "colab": {
     "base_uri": "https://localhost:8080/"
    },
    "executionInfo": {
     "elapsed": 3,
     "status": "ok",
     "timestamp": 1664037951222,
     "user": {
      "displayName": "Patrick Wan",
      "userId": "03147485430388044331"
     },
     "user_tz": -480
    },
    "id": "qljq-PoTX6SE",
    "outputId": "4c492585-4c1c-44cb-bde8-b1c692ccb56f"
   },
   "outputs": [
    {
     "name": "stdout",
     "output_type": "stream",
     "text": [
      "The file name is:  test.txt\n",
      "The read file is: Python2 is a great language.\n",
      "\n",
      "The read file is: Yeah its great!!\n",
      "\n"
     ]
    }
   ],
   "source": [
    "#!/usr/bin/python\n",
    "# -*- coding: UTF-8 -*-\n",
    " \n",
    "# open the file\n",
    "fo = open(\"test.txt\", \"r\")\n",
    "print(\"The file name is: \", fo.name)\n",
    "\n",
    "for line in fo.readlines():                            \n",
    "    print(\"The read file is: %s\" % (line))\n",
    " \n",
    "# close the file\n",
    "fo.close()"
   ]
  },
  {
   "cell_type": "markdown",
   "metadata": {
    "id": "idvz7JlLRyVX"
   },
   "source": [
    "# Writelines"
   ]
  },
  {
   "cell_type": "code",
   "execution_count": 41,
   "metadata": {
    "id": "GCLVIYksRqU1"
   },
   "outputs": [],
   "source": [
    "lines=[\"Beautiful is better than ugly.\\n\", \"Explicit is better than implicit.\\n\"]\n",
    "f=open(\"python.txt\",\"w\")\n",
    "f.writelines(lines)\n",
    "f.close()"
   ]
  },
  {
   "cell_type": "code",
   "execution_count": 47,
   "metadata": {
    "id": "tlPyoZf4SDex"
   },
   "outputs": [],
   "source": [
    "lines=[\"Beautiful is better than ugly.\", \"Explicit is better than implicit.\"]\n",
    "f=open(\"python.txt\",\"w\")\n",
    "f.writelines(lines)\n",
    "f.close()"
   ]
  },
  {
   "cell_type": "markdown",
   "metadata": {
    "id": "xHoUMOccS2rJ"
   },
   "source": [
    "# Create/remove directory"
   ]
  },
  {
   "cell_type": "code",
   "execution_count": 57,
   "metadata": {
    "id": "dLk9IJp9OGt-"
   },
   "outputs": [],
   "source": [
    "#!/usr/bin/python\n",
    "import os\n",
    "\n",
    "# Create a directory \"test\"\n",
    "os.mkdir(\"test\") "
   ]
  },
  {
   "cell_type": "code",
   "execution_count": 58,
   "metadata": {
    "id": "fCcFp5NkawVY"
   },
   "outputs": [],
   "source": [
    "#!/usr/bin/python\n",
    "import os\n",
    "\n",
    "# Remove a directory \"test\"\n",
    "os.rmdir(\"test\") "
   ]
  },
  {
   "cell_type": "code",
   "execution_count": 64,
   "metadata": {
    "id": "VWJ0WoUqbNmZ"
   },
   "outputs": [],
   "source": [
    "import os\n",
    "os.rename( \"test.txt\", \"test2.txt\" )"
   ]
  },
  {
   "cell_type": "code",
   "execution_count": 66,
   "metadata": {
    "id": "E_SYLr4YbF73"
   },
   "outputs": [],
   "source": [
    "import os\n",
    "os.remove(\"test2.txt\")"
   ]
  },
  {
   "cell_type": "code",
   "execution_count": 67,
   "metadata": {
    "colab": {
     "base_uri": "https://localhost:8080/"
    },
    "executionInfo": {
     "elapsed": 435,
     "status": "ok",
     "timestamp": 1664121865691,
     "user": {
      "displayName": "Patrick Wan",
      "userId": "03147485430388044331"
     },
     "user_tz": -480
    },
    "id": "tKoM0lYGYK6B",
    "outputId": "c60670c6-6ff4-4ed7-bf11-dff0a6ef23a5"
   },
   "outputs": [
    {
     "name": "stdout",
     "output_type": "stream",
     "text": [
      "10\n"
     ]
    }
   ],
   "source": [
    "def count_words(filepath):\n",
    "    with open(filepath) as f:\n",
    "        \n",
    "        data = f.read()\n",
    "        data.replace(\",\", \" \")\n",
    "        return len(data.split(\" \"))\n",
    "\n",
    "with open(\"open.txt\", \"w+\") as f:\n",
    "    f.write(\"Write a Python program that accept some words, Hello Hello\")\n",
    "print(count_words(\"open.txt\"))"
   ]
  },
  {
   "cell_type": "code",
   "execution_count": null,
   "metadata": {},
   "outputs": [],
   "source": []
  }
 ],
 "metadata": {
  "colab": {
   "provenance": [
    {
     "file_id": "1HShDK97vs2fKNu5Tbp0vEbht8zguOsYH",
     "timestamp": 1655692532482
    }
   ]
  },
  "kernelspec": {
   "display_name": "Python 3",
   "language": "python",
   "name": "python3"
  },
  "language_info": {
   "codemirror_mode": {
    "name": "ipython",
    "version": 3
   },
   "file_extension": ".py",
   "mimetype": "text/x-python",
   "name": "python",
   "nbconvert_exporter": "python",
   "pygments_lexer": "ipython3",
   "version": "3.8.8"
  }
 },
 "nbformat": 4,
 "nbformat_minor": 1
}
