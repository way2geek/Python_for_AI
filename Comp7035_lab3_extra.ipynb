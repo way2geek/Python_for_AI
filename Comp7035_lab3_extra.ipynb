{
 "cells": [
  {
   "cell_type": "markdown",
   "metadata": {
    "nteract": {
     "transient": {
      "deleting": false
     }
    }
   },
   "source": [
    "## Lab Demo COMP7035 Lab 3 extra\n",
    "### No submission require"
   ]
  },
  {
   "cell_type": "markdown",
   "metadata": {
    "tags": []
   },
   "source": [
    "## Exercise  \n",
    "### You can use any Python style or techniques to complete the exercise!\n",
    "### Self-learning and exploration may be needed to complete these question\n",
    "### [W3C Python learning website](https://www.w3schools.com/python/default.asp)"
   ]
  },
  {
   "cell_type": "markdown",
   "metadata": {
    "tags": []
   },
   "source": [
    "Write a Python program to search a list for the first int object which is divisible by 13.  \n",
    "You may test your program with the list [12, \"COMP\", 999.9, \"2022\", 26, \"Great\"]  \n",
    "*Hint [`isinstance()`](https://www.w3schools.com/python/ref_func_isinstance.asp)*"
   ]
  },
  {
   "cell_type": "code",
   "execution_count": 17,
   "metadata": {},
   "outputs": [
    {
     "name": "stdout",
     "output_type": "stream",
     "text": [
      "26 is divisible by 13\n"
     ]
    }
   ],
   "source": [
    "list = [12, \"COMP\", 999.9, \"2022\", 26, \"Great\"]\n",
    "## Please write your code here\n"
   ]
  },
  {
   "cell_type": "markdown",
   "metadata": {},
   "source": [
    "Write a Python program to convert the 24 hour clock to a 12 hour clock format.  \n",
    "For example, to get an user input 1532, then output "
   ]
  },
  {
   "cell_type": "code",
   "execution_count": 15,
   "metadata": {},
   "outputs": [
    {
     "name": "stdin",
     "output_type": "stream",
     "text": [
      "Please input a time in 24 hour format e.g. 1532 or 0945 1532\n"
     ]
    },
    {
     "name": "stdout",
     "output_type": "stream",
     "text": [
      "3:32pm\n"
     ]
    }
   ],
   "source": [
    "timeIn = input(\"Please input a time in 24 hour format e.g. 1532 or 0945\")\n",
    "## Please write your code here\n",
    "\n",
    "\n",
    "print(time)"
   ]
  }
 ],
 "metadata": {
  "gist_id": "5cf6e153096947da7ad5a7abe3a530bd",
  "kernel_info": {
   "name": "python3"
  },
  "kernelspec": {
   "display_name": "Python 3 (ipykernel)",
   "language": "python",
   "name": "python3"
  },
  "language_info": {
   "codemirror_mode": {
    "name": "ipython",
    "version": 3
   },
   "file_extension": ".py",
   "mimetype": "text/x-python",
   "name": "python",
   "nbconvert_exporter": "python",
   "pygments_lexer": "ipython3",
   "version": "3.8.8"
  },
  "nteract": {
   "version": "0.28.0"
  }
 },
 "nbformat": 4,
 "nbformat_minor": 4
}
