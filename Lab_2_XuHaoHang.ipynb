{
 "cells": [
  {
   "cell_type": "markdown",
   "metadata": {
    "nteract": {
     "transient": {
      "deleting": false
     }
    }
   },
   "source": [
    "## Lab Demo COMP7035 Week 2"
   ]
  },
  {
   "cell_type": "markdown",
   "metadata": {
    "nteract": {
     "transient": {
      "deleting": false
     }
    }
   },
   "source": [
    "Let's take a look at the problem we discussed last week.\n",
    "\n",
    "We calculated the continuous assessment according the current assessment scheme. \n",
    "\n",
    "`ca = assignments * 0.4 + test * 0.2`\n",
    "\n",
    "We may have many of these statements in our program, to calculate scores for students.\n",
    "\n",
    "But course design and assessment scheme may change from time to time. It's better to \"centralize\" this calculation to **avoid inconsistancy**.\n",
    "\n",
    "This is how we can achieve it:"
   ]
  },
  {
   "cell_type": "code",
   "execution_count": 2,
   "metadata": {
    "nteract": {
     "transient": {
      "deleting": false
     }
    },
    "tags": []
   },
   "outputs": [
    {
     "name": "stdout",
     "output_type": "stream",
     "text": [
      "40.0\n"
     ]
    }
   ],
   "source": [
    "def getCA(assignments, test):\n",
    "    score = assignments * 0.4 + test * 0.2\n",
    "    return score\n",
    "student1 = getCA(80, 40)\n",
    "print(student1)\n"
   ]
  },
  {
   "cell_type": "markdown",
   "metadata": {
    "nteract": {
     "transient": {
      "deleting": false
     }
    }
   },
   "source": [
    "The `def` keyword helps us to define a **function**. Here, the function is named `getCA`, and **accepts 2 parameters**, namely `assignments` and `test`.\n",
    "\n",
    "These parameters will work as **variables** in the **function body**. Most functions would end with a `return` statement, which returns a value to the **caller**.\n",
    "\n",
    "Please note that a function will never execute **unless it's being called**. \n",
    "\n",
    "When we call a function, we have to pass in **arguments** that match with the function parameters:\n",
    "\n",
    "`student1 = getCA(80, 40)`\n",
    "\n",
    "The returned value is then received by variable `student1`.\n",
    "\n",
    "We can then calculate the continuous assessment score for many students:\n",
    "\n",
    "\n"
   ]
  },
  {
   "cell_type": "code",
   "execution_count": 3,
   "metadata": {
    "nteract": {
     "transient": {
      "deleting": false
     }
    },
    "tags": []
   },
   "outputs": [
    {
     "name": "stdout",
     "output_type": "stream",
     "text": [
      "40.0\n",
      "31.0\n",
      "47.0\n"
     ]
    }
   ],
   "source": [
    "def getCA(assignments, test):\n",
    "    score = assignments * 0.4 + test * 0.2\n",
    "    return score\n",
    "\n",
    "student1 = getCA(80, 40)\n",
    "print(student1)\n",
    "student2 = getCA(65, 25)\n",
    "print(student2)\n",
    "student3 = getCA(80, 75)\n",
    "print(student3)"
   ]
  },
  {
   "cell_type": "markdown",
   "metadata": {
    "nteract": {
     "transient": {
      "deleting": false
     }
    }
   },
   "source": [
    "### What if we have 100 students?\n",
    "\n",
    "Declaring 100 variables (e.g., `student001` - `student100`) doesn't sound right.\n",
    "\n",
    "We need a way to represent multiple values with a single variable, and there're many ways to achieve this in python."
   ]
  },
  {
   "cell_type": "code",
   "execution_count": 3,
   "metadata": {
    "nteract": {
     "transient": {
      "deleting": false
     }
    },
    "tags": []
   },
   "outputs": [
    {
     "name": "stdout",
     "output_type": "stream",
     "text": [
      "[34.0, 35.0, 57.25]\n",
      "34.0\n",
      "35.0\n",
      "57.25\n"
     ]
    }
   ],
   "source": [
    "L_score = [34.0, 35.0, 57.25]\n",
    "print(L_score)\n",
    "print(L_score[0])\n",
    "print(L_score[1])\n",
    "print(L_score[2])"
   ]
  },
  {
   "cell_type": "markdown",
   "metadata": {
    "nteract": {
     "transient": {
      "deleting": false
     }
    }
   },
   "source": [
    "Here, we declare a **list**, holding three values. We can access each individual value with `[index]`. Please note that the index value starts from 0. If we access the fourth value (`[3]`) of this list, a `list index out of range` error will be thrown, as that value doesn't exist. \n",
    "\n",
    "To add one more value in the list, we can:\n",
    "\n"
   ]
  },
  {
   "cell_type": "code",
   "execution_count": 4,
   "metadata": {
    "nteract": {
     "transient": {
      "deleting": false
     }
    },
    "tags": []
   },
   "outputs": [
    {
     "name": "stdout",
     "output_type": "stream",
     "text": [
      "[34.0, 35.0, 57.25, 45.5]\n",
      "45.5\n"
     ]
    }
   ],
   "source": [
    "L_score.append(45.5)\n",
    "print(L_score)\n",
    "print(L_score[3])"
   ]
  },
  {
   "cell_type": "markdown",
   "metadata": {
    "nteract": {
     "transient": {
      "deleting": false
     }
    }
   },
   "source": [
    "Now, instead of manually filling the CA scores, we can make of use the function we developed earlier:"
   ]
  },
  {
   "cell_type": "code",
   "execution_count": 5,
   "metadata": {
    "jupyter": {
     "outputs_hidden": false,
     "source_hidden": false
    },
    "nteract": {
     "transient": {
      "deleting": false
     }
    },
    "tags": []
   },
   "outputs": [
    {
     "name": "stdout",
     "output_type": "stream",
     "text": [
      "[]\n",
      "[40.0]\n",
      "[40.0, 31.0]\n",
      "[40.0, 31.0, 47.0]\n",
      "[40.0, 31.0, 47.0, 27.2]\n"
     ]
    }
   ],
   "source": [
    "def getCA(assignments, test):\n",
    "    score = assignments * 0.4 + test * 0.2\n",
    "    return score\n",
    "  \n",
    "scoreList = []\n",
    "print(scoreList)\n",
    "scoreList.append(getCA(80, 40))\n",
    "print(scoreList)\n",
    "scoreList.append(getCA(65, 25))\n",
    "print(scoreList)\n",
    "scoreList.append(getCA(80, 75))\n",
    "print(scoreList)\n",
    "scoreList.append(getCA(45.5, 45))\n",
    "print(scoreList)"
   ]
  },
  {
   "cell_type": "markdown",
   "metadata": {
    "nteract": {
     "transient": {
      "deleting": false
     }
    }
   },
   "source": [
    "Here, we start with an empty list (`[]`), and make use of the `getCA()` function to calculate the score for each student. The returned value is appended to the list.\n",
    "\n",
    "To print the score one by one, we can make use of a `for` loop. If you only need the values:"
   ]
  },
  {
   "cell_type": "code",
   "execution_count": 6,
   "metadata": {
    "jupyter": {
     "outputs_hidden": false,
     "source_hidden": false
    },
    "nteract": {
     "transient": {
      "deleting": false
     }
    },
    "tags": []
   },
   "outputs": [
    {
     "name": "stdout",
     "output_type": "stream",
     "text": [
      "The continuous assessment score is 40.0\n",
      "The continuous assessment score is 31.0\n",
      "The continuous assessment score is 47.0\n",
      "The continuous assessment score is 27.2\n"
     ]
    }
   ],
   "source": [
    "for score in scoreList:\n",
    "    print(\"The continuous assessment score is\", score);"
   ]
  },
  {
   "cell_type": "markdown",
   "metadata": {
    "nteract": {
     "transient": {
      "deleting": false
     }
    }
   },
   "source": [
    "If you need the index as well:"
   ]
  },
  {
   "cell_type": "code",
   "execution_count": 8,
   "metadata": {
    "jupyter": {
     "outputs_hidden": false,
     "source_hidden": false
    },
    "nteract": {
     "transient": {
      "deleting": false
     }
    },
    "tags": []
   },
   "outputs": [
    {
     "name": "stdout",
     "output_type": "stream",
     "text": [
      "The continuous assessment score of student 0 is 40.0\n",
      "The continuous assessment score of student 1 is 31.0\n",
      "The continuous assessment score of student 2 is 47.0\n",
      "The continuous assessment score of student 3 is 27.2\n"
     ]
    }
   ],
   "source": [
    "for score in scoreList:\n",
    "    print(f\"The continuous assessment score of student {scoreList.index(score)} is\", score);"
   ]
  },
  {
   "cell_type": "markdown",
   "metadata": {
    "nteract": {
     "transient": {
      "deleting": false
     }
    }
   },
   "source": [
    "The `len()` function tells us the **length** of a list, that is the number of elements in the list. \n",
    "\n",
    "The `range(n)` function generates the first `n` non-negative integers, e.g., "
   ]
  },
  {
   "cell_type": "code",
   "execution_count": 9,
   "metadata": {
    "jupyter": {
     "outputs_hidden": false,
     "source_hidden": false
    },
    "nteract": {
     "transient": {
      "deleting": false
     }
    },
    "tags": []
   },
   "outputs": [
    {
     "data": {
      "text/plain": [
       "[0, 1, 2, 3, 4, 5]"
      ]
     },
     "execution_count": 9,
     "metadata": {},
     "output_type": "execute_result"
    }
   ],
   "source": [
    "list(range(6))"
   ]
  },
  {
   "cell_type": "markdown",
   "metadata": {
    "nteract": {
     "transient": {
      "deleting": false
     }
    }
   },
   "source": [
    "Let's develop another function to check for failure cases:"
   ]
  },
  {
   "cell_type": "code",
   "execution_count": 11,
   "metadata": {
    "jupyter": {
     "outputs_hidden": false,
     "source_hidden": false
    },
    "nteract": {
     "transient": {
      "deleting": false
     }
    },
    "tags": []
   },
   "outputs": [
    {
     "name": "stdout",
     "output_type": "stream",
     "text": [
      "Student 0 passes this course.\n",
      "Student 1 fails this course.\n",
      "Student 2 passes this course.\n",
      "Student 3 passes this course.\n"
     ]
    }
   ],
   "source": [
    "def getCA(assignments, test):\n",
    "    return assignments * 0.4 + test * 0.2\n",
    "\n",
    "def didIFail(assignments, test, exam):\n",
    "  \n",
    "  overall = getCA(assignments, test) + exam * 0.4;\n",
    "  \n",
    "  if exam < 30 or overall < 35:\n",
    "    return True\n",
    "  else:\n",
    "    return False \n",
    "  \n",
    "failList = []\n",
    "failList.append(didIFail(80, 40, 40))\n",
    "failList.append(didIFail(15, 25, 30))\n",
    "failList.append(didIFail(80, 75, 70))\n",
    "failList.append(didIFail(45.5, 45.5, 45.5))\n",
    "\n",
    "for index in range(len(failList)):\n",
    "    if failList[index]:\n",
    "        print(\"Student\", index, \"fails this course.\")\n",
    "    else:\n",
    "        print(\"Student\", index, \"passes this course.\")"
   ]
  },
  {
   "cell_type": "markdown",
   "metadata": {
    "nteract": {
     "transient": {
      "deleting": false
     }
    }
   },
   "source": [
    "Please notice that **a function can call another function**.\n",
    "\n",
    "Sometimes, we can leverage the `return` statement to provide an **early exit** of a function:"
   ]
  },
  {
   "cell_type": "markdown",
   "metadata": {
    "nteract": {
     "transient": {
      "deleting": false
     }
    }
   },
   "source": [
    "## Poker Game\n",
    "\n",
    "In a Poker game, there are **52 cards** in a deck, divided into **4 suits** of **13 ranks** each.\n",
    "\n",
    "![Poker Cards](https://ik.imagekit.io/iqo55vvgwqy/tr:w-800/free-vector-card-deck_zjPOhluNjKy.png?updatedAt=1630646825260)"
   ]
  },
  {
   "cell_type": "markdown",
   "metadata": {
    "nteract": {
     "transient": {
      "deleting": false
     }
    }
   },
   "source": [
    "Typically, we can use integers 0 - 51 to represent these cards. Let say, the first suit uses 0 - 12, while the second suit uses 13 - 25, etc. \n",
    "\n",
    "Then, let's develop a couple of functions to get the **suit** and **rank** of a **card**:\n",
    "\n"
   ]
  },
  {
   "cell_type": "code",
   "execution_count": 16,
   "metadata": {
    "jupyter": {
     "outputs_hidden": false
    },
    "nteract": {
     "transient": {
      "deleting": false
     }
    },
    "tags": []
   },
   "outputs": [],
   "source": [
    "def getSuit(no):\n",
    "    if 0<=no<=12:\n",
    "        return 'Diamond'\n",
    "    elif 12<no<=25:\n",
    "        return 'Club'\n",
    "    elif 25<no<=38:\n",
    "        return 'Heart'\n",
    "    elif 38<no<=51:\n",
    "        return 'Spade'\n",
    "    else:\n",
    "        return 'none'"
   ]
  },
  {
   "cell_type": "code",
   "execution_count": 21,
   "metadata": {
    "jupyter": {
     "outputs_hidden": false
    },
    "nteract": {
     "transient": {
      "deleting": false
     }
    },
    "tags": []
   },
   "outputs": [],
   "source": [
    "def getRank(no):\n",
    "    rank = no % 13 + 2\n",
    "    if rank == 11:\n",
    "         return \"J\"\n",
    "    if rank == 12:\n",
    "         return \"Q\"\n",
    "    if rank == 13:\n",
    "         return \"K\"\n",
    "    if rank == 14:\n",
    "         return \"A\"\n",
    "    return str(rank)"
   ]
  },
  {
   "cell_type": "code",
   "execution_count": 22,
   "metadata": {
    "jupyter": {
     "outputs_hidden": false
    },
    "nteract": {
     "transient": {
      "deleting": false
     }
    },
    "tags": []
   },
   "outputs": [
    {
     "name": "stdout",
     "output_type": "stream",
     "text": [
      "Diamond A\n"
     ]
    }
   ],
   "source": [
    "print(getSuit(12), getRank(12))"
   ]
  },
  {
   "cell_type": "markdown",
   "metadata": {
    "nteract": {
     "transient": {
      "deleting": false
     }
    }
   },
   "source": [
    "It would be a lot easier to identify the poker hands with these functions.\n",
    "\n",
    "![Poker Hands](https://allmathconsidered.files.wordpress.com/2017/05/poker-hand-rankings.jpg)"
   ]
  },
  {
   "cell_type": "code",
   "execution_count": 22,
   "metadata": {
    "nteract": {
     "transient": {
      "deleting": false
     }
    },
    "tags": []
   },
   "outputs": [
    {
     "name": "stdout",
     "output_type": "stream",
     "text": [
      "True False\n"
     ]
    }
   ],
   "source": [
    "def isFlush(hand):\n",
    "  \n",
    "    suit0 = getSuit(hand[0])\n",
    "  \n",
    "    for card in hand:\n",
    "        if getSuit(card) != suit0:\n",
    "            return False\n",
    "  \n",
    "    return True\n",
    "\n",
    "print(isFlush([0, 1, 2, 3, 12]), isFlush([0, 1, 2, 3, 13]))"
   ]
  },
  {
   "cell_type": "markdown",
   "metadata": {},
   "source": [
    "## Exercise"
   ]
  },
  {
   "cell_type": "markdown",
   "metadata": {},
   "source": [
    "Write a Python program to find the maximum value of three numbers. You are REQUIRED to implement a function named `max()` to take three arguments and print print the result.\n",
    "e.g.\n",
    "max(5,56, 12)\n",
    "56\n"
   ]
  },
  {
   "cell_type": "code",
   "execution_count": 23,
   "metadata": {},
   "outputs": [
    {
     "data": {
      "text/plain": [
       "56"
      ]
     },
     "execution_count": 23,
     "metadata": {},
     "output_type": "execute_result"
    }
   ],
   "source": [
    "# Please write your code here\n",
    "def max(v1,v2,v3):\n",
    "    m_v= v1 if v1>v2 else v2\n",
    "    m_v= m_v if m_v>v3 else v3\n",
    "    return m_v\n",
    "max(5,56, 12)"
   ]
  },
  {
   "cell_type": "markdown",
   "metadata": {
    "nteract": {
     "transient": {
      "deleting": false
     }
    }
   },
   "source": [
    "Write a Python program to reverse a string. You are REQUIRED to implement a function named `reverse()` to take a string and return the result.\n",
    "[Hint](https://www.w3schools.com/python/python_howto_reverse_string.asp)"
   ]
  },
  {
   "cell_type": "code",
   "execution_count": 41,
   "metadata": {},
   "outputs": [
    {
     "name": "stdout",
     "output_type": "stream",
     "text": [
      "dlrow olleh\n"
     ]
    }
   ],
   "source": [
    "# Please write your code here\n",
    "def reverse(text):\n",
    "    a=''\n",
    "    l=len(text)\n",
    "    while l>0:\n",
    "        a=a+text[l-1]\n",
    "        l=l-1\n",
    "    print(a)\n",
    "reverse('hello world')\n"
   ]
  },
  {
   "cell_type": "markdown",
   "metadata": {},
   "source": [
    "Write a Python program to create and print a list where the values are first N square of numbers. You are REQUIRED to implement a function named `printSquare()` to take n where n is an positive integer."
   ]
  },
  {
   "cell_type": "code",
   "execution_count": 47,
   "metadata": {},
   "outputs": [
    {
     "name": "stdout",
     "output_type": "stream",
     "text": [
      "Please input an integer5\n",
      "[0, 1, 4, 9, 16]\n"
     ]
    }
   ],
   "source": [
    "# Please write your code here\n",
    "def printSquare(num):\n",
    "    a=[]\n",
    "    for i in range(0,int(num)):\n",
    "        a.append(i*i)\n",
    "    return a \n",
    "num = input(\"Please input an integer\")\n",
    "print(printSquare(num))\n"
   ]
  },
  {
   "cell_type": "code",
   "execution_count": null,
   "metadata": {
    "pycharm": {
     "name": "#%%\n"
    }
   },
   "outputs": [],
   "source": []
  }
 ],
 "metadata": {
  "gist_id": "5cf6e153096947da7ad5a7abe3a530bd",
  "kernel_info": {
   "name": "python3"
  },
  "kernelspec": {
   "display_name": "Python 3",
   "language": "python",
   "name": "python3"
  },
  "language_info": {
   "codemirror_mode": {
    "name": "ipython",
    "version": 3
   },
   "file_extension": ".py",
   "mimetype": "text/x-python",
   "name": "python",
   "nbconvert_exporter": "python",
   "pygments_lexer": "ipython3",
   "version": "3.8.8"
  },
  "nteract": {
   "version": "0.28.0"
  }
 },
 "nbformat": 4,
 "nbformat_minor": 4
}
