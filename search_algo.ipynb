{
 "cells": [
  {
   "cell_type": "markdown",
   "metadata": {
    "id": "QBmfNrus59Cu"
   },
   "source": [
    "# COMP7015: Artificial Intelligence *(Semester 1, 2022/23)*\n",
    "\n",
    "# Lab1: Solving problems using Search\n",
    "\n",
    "In this lab session, we will learn how to solve problems using search algorithms. Specifically, we will learn the implementation of BFS, DFS, uniform-cost search and greedy search using the path-finding problem. The A* search will be left to you as an exercise.\n",
    "\n",
    "\n",
    "**Instructor: Dr. Kejing Yin (Department of Computer Science, Hong Kong Baptist University)**\n",
    "\n",
    "*This lab sheet is created by Dr. Kejing Yin and is licenced under MIT license.*\n",
    "\n",
    "> MIT License\n",
    "> \n",
    "> Copyright (c) 2022 Kejing Yin\n",
    "> \n",
    "> Permission is hereby granted, free of charge, to any person obtaining a copy\n",
    "> of this software and associated documentation files (the \"Software\"), to deal\n",
    "> in the Software without restriction, including without limitation the rights\n",
    "> to use, copy, modify, merge, publish, distribute, sublicense, and/or sell\n",
    "> copies of the Software, and to permit persons to whom the Software is\n",
    "> furnished to do so, subject to the following conditions:\n",
    "> \n",
    "> The above copyright notice and this permission notice shall be included in all\n",
    "> copies or substantial portions of the Software.\n",
    "> \n",
    "> THE SOFTWARE IS PROVIDED \"AS IS\", WITHOUT WARRANTY OF ANY KIND, EXPRESS OR\n",
    "> IMPLIED, INCLUDING BUT NOT LIMITED TO THE WARRANTIES OF MERCHANTABILITY,\n",
    "> FITNESS FOR A PARTICULAR PURPOSE AND NONINFRINGEMENT. IN NO EVENT SHALL THE\n",
    "> AUTHORS OR COPYRIGHT HOLDERS BE LIABLE FOR ANY CLAIM, DAMAGES OR OTHER\n",
    "> LIABILITY, WHETHER IN AN ACTION OF CONTRACT, TORT OR OTHERWISE, ARISING FROM,\n",
    "> OUT OF OR IN CONNECTION WITH THE SOFTWARE OR THE USE OR OTHER DEALINGS IN THE\n",
    "> SOFTWARE."
   ]
  },
  {
   "cell_type": "markdown",
   "metadata": {},
   "source": [
    "## 1. Finst-in, first-out (FIFO) approach and last-in, first-out (LIFO) approach"
   ]
  },
  {
   "cell_type": "markdown",
   "metadata": {},
   "source": [
    "<div>\n",
    "    <img src=\"figs/fifo_lifo.png\"/>\n",
    "</div>\n",
    "\n",
    "\n",
    "**FIFO**: the last element inserted/recorded is consumed first.\n",
    "\n",
    "**LIFO**: the oldest element is consumed first (e.g., washing a pile of plates in cafe)."
   ]
  },
  {
   "cell_type": "markdown",
   "metadata": {},
   "source": [
    "In Python, the *easiest* way (not the *best* way though) is to use `list`. Let's see an example:"
   ]
  },
  {
   "cell_type": "code",
   "execution_count": 1,
   "metadata": {},
   "outputs": [
    {
     "name": "stdout",
     "output_type": "stream",
     "text": [
      "[]\n",
      "['A']\n",
      "['A', 'B']\n",
      "['A', 'B', 'C']\n"
     ]
    }
   ],
   "source": [
    "# Define am empty list named \"frontiers\"\n",
    "frontiers = []\n",
    "print(frontiers)\n",
    "\n",
    "# We can simply append elements to the list\n",
    "for x in ['A', 'B', 'C']:\n",
    "    frontiers.append(x)\n",
    "    print(frontiers)"
   ]
  },
  {
   "cell_type": "markdown",
   "metadata": {},
   "source": [
    "We use the `.pop(i)` method to retrieve the i-th position in the list and remove it from the list. We can use `.pop(0)` and `.pop(-1)` to get the first and the last elements in the list, respectively. For example:"
   ]
  },
  {
   "cell_type": "code",
   "execution_count": 3,
   "metadata": {
    "id": "9eBdGN4QbQIu"
   },
   "outputs": [
    {
     "name": "stdout",
     "output_type": "stream",
     "text": [
      "A\n",
      "['B', 'C']\n"
     ]
    }
   ],
   "source": [
    "print(frontiers.pop(0))  # get the first element in the list\n",
    "print(frontiers)  # now the first element is removed from the list"
   ]
  },
  {
   "cell_type": "code",
   "execution_count": 4,
   "metadata": {},
   "outputs": [
    {
     "name": "stdout",
     "output_type": "stream",
     "text": [
      "C\n",
      "['B']\n"
     ]
    }
   ],
   "source": [
    "print(frontiers.pop(-1))  # get the last element in the list\n",
    "print(frontiers)  # now the last element is removed from the list"
   ]
  },
  {
   "cell_type": "markdown",
   "metadata": {},
   "source": [
    "In our implementation of search algorithms, we use lists to store the frontier nodes and visited nodes.\n",
    "\n",
    "* **Optional**: using `list` is not the best way because: 1) it can be quite inefficient in real-world applications, and 2) it only allows one producer and one consumer. A more decent way is to use the `queue` package provided by Python. See https://docs.python.org/3/library/queue.html for its documentation. If you are interested, try to use it to implement the search algorithms."
   ]
  },
  {
   "cell_type": "markdown",
   "metadata": {},
   "source": [
    "## 2. Pseudo-codes of search algorithms"
   ]
  },
  {
   "cell_type": "markdown",
   "metadata": {},
   "source": [
    "All search algorithms can be summarized using the following pseudo codes.\n",
    "</br>\n",
    "</br>\n",
    "<div>\n",
    "    <img src=\"figs/pseudo_code.png\" width=600px/>\n",
    "</div>\n",
    "The differences between different algorithms is how they choose the node to be expanded next, and when to test if the node is a goal state."
   ]
  },
  {
   "cell_type": "markdown",
   "metadata": {},
   "source": [
    "## 3. How to `expand` a node\n",
    "\n",
    "For each search problem, we need to know all possible actions and the associated costs from a particular state and the resulting state of taking each action. In the path-finding problem, for each state (location in the map), we can simply store the locations that we can go to from the given location and the cost of taking each action. For example, given the following map:\n",
    "\n",
    "\n",
    "<div>\n",
    "    <img src=\"figs/map1.png\" width=\"400px\"/>\n",
    "</div>\n",
    "\n",
    "we can use a `dict` to represent this graph to be searched on."
   ]
  },
  {
   "cell_type": "code",
   "execution_count": 9,
   "metadata": {},
   "outputs": [],
   "source": [
    "graph = {\n",
    "    'A': [('B', 1), ('D', 2)],  # from A, we can go to B and D\n",
    "    'B': [('A', 1), ('C', 4), ('D', 2)],  # from B, we can go to A, C, and D\n",
    "    'C': [('B', 4)],  # from C, we can go to B\n",
    "    'D': [('A', 2), ('B', 2)]  # from D, we can got to A and B\n",
    "}"
   ]
  },
  {
   "cell_type": "code",
   "execution_count": 12,
   "metadata": {},
   "outputs": [
    {
     "name": "stdout",
     "output_type": "stream",
     "text": [
      "[('A', 1), ('C', 4), ('D', 2)]\n",
      "('C', 4)\n"
     ]
    }
   ],
   "source": [
    "# to retrieve the actions, we can use the current state to index this dict\n",
    "print(graph['B'])  # print out the possible actions from the location B\n",
    "print(graph['B'][1])"
   ]
  },
  {
   "cell_type": "markdown",
   "metadata": {},
   "source": [
    "Later, we will see how to define a function to get possible actions from each state for other problems like 8-puzzle."
   ]
  },
  {
   "cell_type": "markdown",
   "metadata": {},
   "source": [
    "### *Try it out!*\n",
    "\n",
    "Represent the following map in a `dict` named \"romanian_graph\".\n",
    "\n",
    "<div>\n",
    "    <img src=\"figs/romanian_graph.png\" width=\"100%\"/>\n",
    "</div>\n"
   ]
  },
  {
   "cell_type": "code",
   "execution_count": 18,
   "metadata": {},
   "outputs": [],
   "source": [
    "romanian_graph = {\n",
    "    'Arad': [('Zerind', 75), ('Sibiu', 140), ('Timisoara', 118)],  # finish the remaining\n",
    "    'Zerind': [('Oradea', 71), ('Arad', 75)],\n",
    "    'Oradea': [('Zerind', 71), ('Sibiu', 151)],\n",
    "    'Sibiu': [('Fagaras', 99), ('Rimnicu Vilcea', 80), ('Oradea', 151), ('Arad', 140)],\n",
    "    'Timisoara': [('Lugoj', 111), ('Arad', 118)],\n",
    "    'Lugoj': [('Mehadia', 70), ('Timisoara', 111)],\n",
    "    'Mehadia': [('Drobeta', 75), ('Lugoj', 70)],\n",
    "    'Drobeta': [('Craiova', 120), ('Mehadia', 75)],\n",
    "    'Rimnicu Vilcea': [('Craiova', 146), ('Pitesti', 97), ('Sibiu', 80)],\n",
    "    'Fagaras': [('Sibiu', 99), ('Bucharest', 211)],\n",
    "    'Pitesti': [('Rimnicu Vilcea', 97), ('Craiova', 138), ('Bucharest', 101)],\n",
    "    'Craiova': [('Rimnicu Vilcea', 146), ('Drobeta', 120), ('Pitesti', 138)],\n",
    "    'Bucharest': [('Fagaras', 211), ('Pitesti', 101), ('Giurgiu', 90), ('Urzicenzi', 85)],\n",
    "    'Giurgiu': [('Bucharest', 90)],\n",
    "    'Urzicenzi': [('Bucharest', 85), ('Vaslui', 142), ('Hirsova', 98)],\n",
    "    'Vaslui': [('Urzicenzi', 142), ('Iasi', 92)],\n",
    "    'Iasi': [('Vaslui', 92), ('Neamt', 87)],\n",
    "    'Neamt': [('Iasi', 87)],\n",
    "    'Hirsova': [('Urzicenzi', 98), ('Eforie', 86)],\n",
    "    'Eforie': [('Hirsova', 86)],\n",
    "    \n",
    "}"
   ]
  },
  {
   "cell_type": "markdown",
   "metadata": {},
   "source": [
    "## 4. Breadth-first Search (BFS)"
   ]
  },
  {
   "cell_type": "code",
   "execution_count": 3,
   "metadata": {},
   "outputs": [],
   "source": [
    "def bfs(graph_to_search, initial_state, goal_state, verbose=True):\n",
    "    # this is a list of a list because we need to eventually return\n",
    "    # the entire PATH from the initial state to the goal state. So,\n",
    "    # each element in this list represents a path from the the initial\n",
    "    # state to one frontier node. We use the first element in each path\n",
    "    # to represent the cost.\n",
    "    frontiers = [[0, initial_state]]  # the frontier list only has the initial state, with a cost of 0.\n",
    "    visited = []\n",
    "\n",
    "    while len(frontiers) > 0:   # use while loop to iteratively perform search\n",
    "        if verbose:  # print out detailed information in each iteration\n",
    "            print('Frontiers (paths):')\n",
    "            for x in frontiers:\n",
    "                print('  -', x)\n",
    "            print('Visited:', visited)\n",
    "            print('\\n')\n",
    "        \n",
    "        path = frontiers.pop(0)  # Get the first element in the list \n",
    "        node = path[-1]  # Get the last node in this path\n",
    "        \n",
    "        if node in visited:  # check if we have expanded this node, if yes then skip this\n",
    "            continue\n",
    "            \n",
    "        actions = graph_to_search[node] # get the possible actions\n",
    "        for next_node, next_cost in actions:\n",
    "            new_path = path.copy()\n",
    "            new_path.append(next_node)\n",
    "            new_path[0] = new_path[0] + next_cost\n",
    "            \n",
    "            if next_node in visited or new_path in frontiers:\n",
    "                continue  # skip this node if it is already in the frontiers or the visited list.\n",
    "            \n",
    "            # check if we reached the goal state or not\n",
    "            if next_node == goal_state:\n",
    "                goal_path = new_path[1:]\n",
    "                goal_cost = new_path[0]\n",
    "                return goal_path, goal_cost  # if yes, we can return this path and its cost\n",
    "            else:\n",
    "                frontiers.append(new_path)  # add to the frontiers\n",
    "        \n",
    "        # after exploring all actions, we add this node to the visited list\n",
    "        visited.append(node)\n",
    "\n",
    "    return None"
   ]
  },
  {
   "cell_type": "code",
   "execution_count": 4,
   "metadata": {},
   "outputs": [
    {
     "name": "stdout",
     "output_type": "stream",
     "text": [
      "Frontiers (paths):\n",
      "  - [0, 'A']\n",
      "Visited: []\n",
      "\n",
      "\n",
      "Frontiers (paths):\n",
      "  - [1, 'A', 'B']\n",
      "  - [2, 'A', 'D']\n",
      "Visited: ['A']\n",
      "\n",
      "\n",
      "The solution is: ['A', 'B', 'C']\n",
      "The cost is: 5\n"
     ]
    }
   ],
   "source": [
    "graph = {\n",
    "    'A': [('B', 1), ('D', 2)],\n",
    "    'B': [('A', 1), ('C', 4), ('D', 2)],\n",
    "    'C': [('B', 4)],\n",
    "    'D': [('A', 2), ('B', 2)]\n",
    "}\n",
    "\n",
    "path, cost = bfs(graph, 'A', 'C')\n",
    "print('The solution is:', path)\n",
    "print('The cost is:', cost)"
   ]
  },
  {
   "cell_type": "code",
   "execution_count": 18,
   "metadata": {},
   "outputs": [
    {
     "name": "stdout",
     "output_type": "stream",
     "text": [
      "Frontiers (paths):\n",
      "  - [0, 'A']\n",
      "Visited: []\n",
      "\n",
      "\n",
      "Frontiers (paths):\n",
      "  - [1, 'A', 'B']\n",
      "  - [2, 'A', 'D']\n",
      "Visited: ['A']\n",
      "\n",
      "\n"
     ]
    }
   ],
   "source": [
    "# set `verbose=True` to print out the frontiers and visited list in each iteration\n",
    "path, cost = bfs(graph, 'A', 'C', verbose=True)"
   ]
  },
  {
   "cell_type": "markdown",
   "metadata": {},
   "source": [
    "### *Try it out!*"
   ]
  },
  {
   "cell_type": "code",
   "execution_count": 19,
   "metadata": {
    "scrolled": true
   },
   "outputs": [
    {
     "ename": "SyntaxError",
     "evalue": "invalid syntax (<ipython-input-19-af0c73955a45>, line 4)",
     "output_type": "error",
     "traceback": [
      "\u001b[1;36m  File \u001b[1;32m\"<ipython-input-19-af0c73955a45>\"\u001b[1;36m, line \u001b[1;32m4\u001b[0m\n\u001b[1;33m    path, cost =\u001b[0m\n\u001b[1;37m                 ^\u001b[0m\n\u001b[1;31mSyntaxError\u001b[0m\u001b[1;31m:\u001b[0m invalid syntax\n"
     ]
    }
   ],
   "source": [
    "# Try it out!\n",
    "# Find a path from Arad to Bucharest in the Romannian map using BFS\n",
    "\n",
    "path, cost = \n",
    "print('The solution is:', path)\n",
    "print('The cost is:', cost)"
   ]
  },
  {
   "cell_type": "code",
   "execution_count": null,
   "metadata": {
    "scrolled": true
   },
   "outputs": [],
   "source": [
    "# Find a path from Arad to Craiova in the Romannian map using BFS\n",
    "\n",
    "path, cost = \n",
    "print('The solution is:', path)\n",
    "print('The cost is:', cost)"
   ]
  },
  {
   "cell_type": "code",
   "execution_count": null,
   "metadata": {
    "scrolled": true
   },
   "outputs": [],
   "source": [
    "# Find a path from Arad to Vaslui in the Romannian map using BFS\n",
    "\n",
    "path, cost = \n",
    "print('The solution is:', path)\n",
    "print('The cost is:', cost)"
   ]
  },
  {
   "cell_type": "markdown",
   "metadata": {},
   "source": [
    "## 5. Graph Depth-first Search (DFS; graph)\n",
    "\n",
    "When DFS is implemented in graph search, we record the visited nodes to avoid revisiting them. The implementation is very similar to BFS. The only difference is that we retrieve the last node from the frontiers instead of the first one."
   ]
  },
  {
   "cell_type": "markdown",
   "metadata": {},
   "source": [
    "### *Try it out!*\n",
    "Copy the previous `bfs` function, rename it to `dfs` and modify it to perform a graph dfs. Test it with the Romannian map."
   ]
  },
  {
   "cell_type": "code",
   "execution_count": 88,
   "metadata": {},
   "outputs": [],
   "source": [
    "def dfs(graph_to_search, initial_state, goal_state, verbose=True):\n",
    "    # this is a list of a list because we need to eventually return\n",
    "    # the entire PATH from the initial state to the goal state. So,\n",
    "    # each element in this list represents a path from the the initial\n",
    "    # state to one frontier node. We use the first element in each path\n",
    "    # to represent the cost.\n",
    "    frontiers = [[0, initial_state]]  # the frontier list only has the initial state, with a cost of 0.\n",
    "    visited = []\n",
    "\n",
    "    while len(frontiers) > 0:   # use while loop to iteratively perform search\n",
    "        if verbose:  # print out detailed information in each iteration\n",
    "            print('Frontiers (paths):')\n",
    "            for x in frontiers:\n",
    "                print('  -', x)\n",
    "            print('Visited:', visited)\n",
    "            print('\\n')\n",
    "        \n",
    "        path = frontiers.pop(-1)  # Get the last element in the list\n",
    "        node = path[-1]  # Get the last node in this path\n",
    "        \n",
    "        if node in visited:  # check if we have expanded this node, if yes then skip this\n",
    "            continue\n",
    "            \n",
    "        actions = graph_to_search[node] # get the possible actions\n",
    "        for next_node, next_cost in actions:\n",
    "            new_path = path.copy()\n",
    "            new_path.append(next_node)\n",
    "            new_path[0] = new_path[0] + next_cost\n",
    "            \n",
    "            if next_node in visited or new_path in frontiers:\n",
    "                continue  # skip this node if it is already in the frontiers or the visited list.\n",
    "            \n",
    "            # check if we reached the goal state or not\n",
    "            if next_node == goal_state:\n",
    "                goal_path = new_path[1:]\n",
    "                goal_cost = new_path[0]\n",
    "                return goal_path, goal_cost  # if yes, we can return this path and its cost\n",
    "            else:\n",
    "                frontiers.append(new_path)  # add to the frontiers\n",
    "        \n",
    "        # after exploring all actions, we add this node to the visited list\n",
    "        visited.append(node)\n",
    "\n",
    "    return None"
   ]
  },
  {
   "cell_type": "code",
   "execution_count": 89,
   "metadata": {
    "scrolled": true
   },
   "outputs": [
    {
     "name": "stdout",
     "output_type": "stream",
     "text": [
      "Frontiers (paths):\n",
      "  - [0, 'Arad']\n",
      "Visited: []\n",
      "\n",
      "\n",
      "Frontiers (paths):\n",
      "  - [75, 'Arad', 'Zerind']\n",
      "  - [140, 'Arad', 'Sibiu']\n",
      "  - [118, 'Arad', 'Timisoara']\n",
      "Visited: ['Arad']\n",
      "\n",
      "\n",
      "Frontiers (paths):\n",
      "  - [75, 'Arad', 'Zerind']\n",
      "  - [140, 'Arad', 'Sibiu']\n",
      "  - [229, 'Arad', 'Timisoara', 'Lugoj']\n",
      "Visited: ['Arad', 'Timisoara']\n",
      "\n",
      "\n",
      "Frontiers (paths):\n",
      "  - [75, 'Arad', 'Zerind']\n",
      "  - [140, 'Arad', 'Sibiu']\n",
      "  - [299, 'Arad', 'Timisoara', 'Lugoj', 'Mehadia']\n",
      "Visited: ['Arad', 'Timisoara', 'Lugoj']\n",
      "\n",
      "\n",
      "Frontiers (paths):\n",
      "  - [75, 'Arad', 'Zerind']\n",
      "  - [140, 'Arad', 'Sibiu']\n",
      "  - [374, 'Arad', 'Timisoara', 'Lugoj', 'Mehadia', 'Drobeta']\n",
      "Visited: ['Arad', 'Timisoara', 'Lugoj', 'Mehadia']\n",
      "\n",
      "\n",
      "Frontiers (paths):\n",
      "  - [75, 'Arad', 'Zerind']\n",
      "  - [140, 'Arad', 'Sibiu']\n",
      "  - [494, 'Arad', 'Timisoara', 'Lugoj', 'Mehadia', 'Drobeta', 'Craiova']\n",
      "Visited: ['Arad', 'Timisoara', 'Lugoj', 'Mehadia', 'Drobeta']\n",
      "\n",
      "\n",
      "Frontiers (paths):\n",
      "  - [75, 'Arad', 'Zerind']\n",
      "  - [140, 'Arad', 'Sibiu']\n",
      "  - [640, 'Arad', 'Timisoara', 'Lugoj', 'Mehadia', 'Drobeta', 'Craiova', 'Rimnicu Vilcea']\n",
      "  - [632, 'Arad', 'Timisoara', 'Lugoj', 'Mehadia', 'Drobeta', 'Craiova', 'Pitesti']\n",
      "Visited: ['Arad', 'Timisoara', 'Lugoj', 'Mehadia', 'Drobeta', 'Craiova']\n",
      "\n",
      "\n",
      "The solution is: ['Arad', 'Timisoara', 'Lugoj', 'Mehadia', 'Drobeta', 'Craiova', 'Pitesti', 'Bucharest']\n",
      "The cost is: 733\n",
      "The solution is: ['Arad', 'Timisoara', 'Lugoj', 'Mehadia', 'Drobeta', 'Craiova', 'Pitesti', 'Bucharest']\n",
      "The cost is: 733\n"
     ]
    }
   ],
   "source": [
    "# Try it out!\n",
    "# Find a path from Arad to Bucharest in the Romannian map using DFS\n",
    "\n",
    "path, cost = dfs(romanian_graph, 'Arad', 'Bucharest')\n",
    "\n",
    "print('The solution is:', path)\n",
    "print('The cost is:', cost)\n",
    "print('The solution is:', path)\n",
    "print('The cost is:', cost)"
   ]
  },
  {
   "cell_type": "code",
   "execution_count": 90,
   "metadata": {},
   "outputs": [
    {
     "name": "stdout",
     "output_type": "stream",
     "text": [
      "Frontiers (paths):\n",
      "  - [0, 'Arad']\n",
      "Visited: []\n",
      "\n",
      "\n",
      "Frontiers (paths):\n",
      "  - [75, 'Arad', 'Zerind']\n",
      "  - [140, 'Arad', 'Sibiu']\n",
      "  - [118, 'Arad', 'Timisoara']\n",
      "Visited: ['Arad']\n",
      "\n",
      "\n",
      "Frontiers (paths):\n",
      "  - [75, 'Arad', 'Zerind']\n",
      "  - [140, 'Arad', 'Sibiu']\n",
      "  - [229, 'Arad', 'Timisoara', 'Lugoj']\n",
      "Visited: ['Arad', 'Timisoara']\n",
      "\n",
      "\n",
      "Frontiers (paths):\n",
      "  - [75, 'Arad', 'Zerind']\n",
      "  - [140, 'Arad', 'Sibiu']\n",
      "  - [299, 'Arad', 'Timisoara', 'Lugoj', 'Mehadia']\n",
      "Visited: ['Arad', 'Timisoara', 'Lugoj']\n",
      "\n",
      "\n",
      "Frontiers (paths):\n",
      "  - [75, 'Arad', 'Zerind']\n",
      "  - [140, 'Arad', 'Sibiu']\n",
      "  - [374, 'Arad', 'Timisoara', 'Lugoj', 'Mehadia', 'Drobeta']\n",
      "Visited: ['Arad', 'Timisoara', 'Lugoj', 'Mehadia']\n",
      "\n",
      "\n",
      "Frontiers (paths):\n",
      "  - [75, 'Arad', 'Zerind']\n",
      "  - [140, 'Arad', 'Sibiu']\n",
      "  - [494, 'Arad', 'Timisoara', 'Lugoj', 'Mehadia', 'Drobeta', 'Craiova']\n",
      "Visited: ['Arad', 'Timisoara', 'Lugoj', 'Mehadia', 'Drobeta']\n",
      "\n",
      "\n",
      "Frontiers (paths):\n",
      "  - [75, 'Arad', 'Zerind']\n",
      "  - [140, 'Arad', 'Sibiu']\n",
      "  - [640, 'Arad', 'Timisoara', 'Lugoj', 'Mehadia', 'Drobeta', 'Craiova', 'Rimnicu Vilcea']\n",
      "  - [632, 'Arad', 'Timisoara', 'Lugoj', 'Mehadia', 'Drobeta', 'Craiova', 'Pitesti']\n",
      "Visited: ['Arad', 'Timisoara', 'Lugoj', 'Mehadia', 'Drobeta', 'Craiova']\n",
      "\n",
      "\n",
      "The solution is: ['Arad', 'Timisoara', 'Lugoj', 'Mehadia', 'Drobeta', 'Craiova', 'Pitesti', 'Bucharest']\n",
      "The cost is: 733\n"
     ]
    }
   ],
   "source": [
    "path, cost =dfs(romanian_graph, 'Arad', 'Bucharest')\n",
    "print('The solution is:', path)\n",
    "print('The cost is:', cost)"
   ]
  },
  {
   "cell_type": "code",
   "execution_count": null,
   "metadata": {
    "scrolled": true
   },
   "outputs": [],
   "source": [
    "# Find a path from Arad to Craiova in the Romannian map using DFS\n",
    "\n",
    "path, cost = \n",
    "print('The solution is:', path)\n",
    "print('The cost is:', cost)"
   ]
  },
  {
   "cell_type": "code",
   "execution_count": null,
   "metadata": {
    "scrolled": true
   },
   "outputs": [],
   "source": [
    "# Find a path from Arad to Vaslui in the Romannian map using DFS\n",
    "\n",
    "path, cost = \n",
    "print('The solution is:', path)\n",
    "print('The cost is:', cost)"
   ]
  },
  {
   "cell_type": "markdown",
   "metadata": {},
   "source": [
    "## 6. Uniform-cost Search\n",
    "\n",
    "For uniform-cost search, there are two points that we need to pay attention to:\n",
    "- First, we check if a node is a goal state **when we expand it**. Think about how to do this in the codes.\n",
    "- Second, we select the node from frontiers with the **smallest path cost** from the initial state."
   ]
  },
  {
   "cell_type": "markdown",
   "metadata": {},
   "source": [
    "#### A hint: select the smallest path cost"
   ]
  },
  {
   "cell_type": "code",
   "execution_count": 27,
   "metadata": {},
   "outputs": [
    {
     "name": "stdout",
     "output_type": "stream",
     "text": [
      "Before sorting: [[3, 'S', 'A'], [1, 'S', 'B'], [2, 'S', 'C']]\n",
      "After sorting:  [[1, 'S', 'B'], [2, 'S', 'C'], [3, 'S', 'A']]\n",
      "\n",
      "[1, 'S', 'B']\n"
     ]
    }
   ],
   "source": [
    "# For example, we have the following list of frontiers:\n",
    "frontiers = [\n",
    "    [3, 'S', 'A'],\n",
    "    [1, 'S', 'B'],\n",
    "    [2, 'S', 'C']\n",
    "]\n",
    "\n",
    "# We could sort them first:\n",
    "print('Before sorting:', frontiers)\n",
    "\n",
    "frontiers = sorted(frontiers, key=lambda x: x[0])\n",
    "\n",
    "print('After sorting: ', frontiers)\n",
    "\n",
    "\n",
    "# Then, we can pop the first element.\n",
    "print()\n",
    "print(frontiers.pop(0))"
   ]
  },
  {
   "cell_type": "markdown",
   "metadata": {},
   "source": [
    "### *Try it out!*\n",
    "Make use of the above hint, copy the previous bfs function, rename it to `uniform_cost_search` and modify it to perform uniform cost search."
   ]
  },
  {
   "cell_type": "code",
   "execution_count": 135,
   "metadata": {},
   "outputs": [],
   "source": [
    "def uniform_cost_search(graph_to_search, initial_state, goal_state, verbose=False):\n",
    "    # this is a list of a list because we need to eventually return\n",
    "    # the entire PATH from the initial state to the goal state. So,\n",
    "    # each element in this list represents a path from the the initial\n",
    "    # state to one frontier node. We use the first element in each path\n",
    "    # to represent the cost.\n",
    "    frontiers = [[0, initial_state]]  # the frontier list only has the initial state, with a cost of 0.\n",
    "    visited = []\n",
    "    solutions = []\n",
    "    while len(frontiers) > 0:   # use while loop to iteratively perform search\n",
    "        if verbose:  # print out detailed information in each iteration\n",
    "            print('Frontiers (paths):')\n",
    "            for x in frontiers:\n",
    "                print('  -', x)\n",
    "            print('Visited:', visited)\n",
    "            print('\\n')\n",
    "        print(frontiers)\n",
    "        path = frontiers.pop(0)  # Get the first element in the list\n",
    "        node = path[-1]  # Get the last node in this path\n",
    "        \n",
    "        if node in visited:  # check if we have expanded this node, if yes then skip this\n",
    "            continue\n",
    "            \n",
    "        actions = graph_to_search[node] # get the possible actions\n",
    "        for next_node, next_cost in sorted(actions, key=lambda x: x[0]):\n",
    "            new_path = path.copy()\n",
    "            new_path.append(next_node)\n",
    "            new_path[0] = new_path[0] + next_cost\n",
    "            \n",
    "            if next_node in visited or new_path in frontiers:\n",
    "                continue  # skip this node if it is already in the frontiers or the visited list.\n",
    "            \n",
    "            # check if we reached the goal state or not\n",
    "            if next_node == goal_state:\n",
    "                solutions.append([new_path[0],new_path[1:]])\n",
    "            else:\n",
    "                frontiers.append(new_path)  # add to the frontiers\n",
    "        \n",
    "        # after exploring all actions, we add this node to the visited list\n",
    "        \n",
    "            \n",
    "        visited.append(node)\n",
    "        \n",
    "\n",
    "    return sorted(solutions, key=lambda x: x[0])"
   ]
  },
  {
   "cell_type": "code",
   "execution_count": 136,
   "metadata": {
    "scrolled": false
   },
   "outputs": [
    {
     "name": "stdout",
     "output_type": "stream",
     "text": [
      "[[0, 'Arad']]\n",
      "[[140, 'Arad', 'Sibiu'], [118, 'Arad', 'Timisoara'], [75, 'Arad', 'Zerind']]\n",
      "[[118, 'Arad', 'Timisoara'], [75, 'Arad', 'Zerind'], [239, 'Arad', 'Sibiu', 'Fagaras'], [291, 'Arad', 'Sibiu', 'Oradea'], [220, 'Arad', 'Sibiu', 'Rimnicu Vilcea']]\n",
      "[[75, 'Arad', 'Zerind'], [239, 'Arad', 'Sibiu', 'Fagaras'], [291, 'Arad', 'Sibiu', 'Oradea'], [220, 'Arad', 'Sibiu', 'Rimnicu Vilcea'], [229, 'Arad', 'Timisoara', 'Lugoj']]\n",
      "[[239, 'Arad', 'Sibiu', 'Fagaras'], [291, 'Arad', 'Sibiu', 'Oradea'], [220, 'Arad', 'Sibiu', 'Rimnicu Vilcea'], [229, 'Arad', 'Timisoara', 'Lugoj'], [146, 'Arad', 'Zerind', 'Oradea']]\n",
      "[[291, 'Arad', 'Sibiu', 'Oradea'], [220, 'Arad', 'Sibiu', 'Rimnicu Vilcea'], [229, 'Arad', 'Timisoara', 'Lugoj'], [146, 'Arad', 'Zerind', 'Oradea']]\n",
      "[[220, 'Arad', 'Sibiu', 'Rimnicu Vilcea'], [229, 'Arad', 'Timisoara', 'Lugoj'], [146, 'Arad', 'Zerind', 'Oradea']]\n",
      "[[229, 'Arad', 'Timisoara', 'Lugoj'], [146, 'Arad', 'Zerind', 'Oradea'], [366, 'Arad', 'Sibiu', 'Rimnicu Vilcea', 'Craiova'], [317, 'Arad', 'Sibiu', 'Rimnicu Vilcea', 'Pitesti']]\n",
      "[[146, 'Arad', 'Zerind', 'Oradea'], [366, 'Arad', 'Sibiu', 'Rimnicu Vilcea', 'Craiova'], [317, 'Arad', 'Sibiu', 'Rimnicu Vilcea', 'Pitesti'], [299, 'Arad', 'Timisoara', 'Lugoj', 'Mehadia']]\n",
      "[[366, 'Arad', 'Sibiu', 'Rimnicu Vilcea', 'Craiova'], [317, 'Arad', 'Sibiu', 'Rimnicu Vilcea', 'Pitesti'], [299, 'Arad', 'Timisoara', 'Lugoj', 'Mehadia']]\n",
      "[[317, 'Arad', 'Sibiu', 'Rimnicu Vilcea', 'Pitesti'], [299, 'Arad', 'Timisoara', 'Lugoj', 'Mehadia'], [486, 'Arad', 'Sibiu', 'Rimnicu Vilcea', 'Craiova', 'Drobeta'], [504, 'Arad', 'Sibiu', 'Rimnicu Vilcea', 'Craiova', 'Pitesti']]\n",
      "[[299, 'Arad', 'Timisoara', 'Lugoj', 'Mehadia'], [486, 'Arad', 'Sibiu', 'Rimnicu Vilcea', 'Craiova', 'Drobeta'], [504, 'Arad', 'Sibiu', 'Rimnicu Vilcea', 'Craiova', 'Pitesti']]\n",
      "[[486, 'Arad', 'Sibiu', 'Rimnicu Vilcea', 'Craiova', 'Drobeta'], [504, 'Arad', 'Sibiu', 'Rimnicu Vilcea', 'Craiova', 'Pitesti'], [374, 'Arad', 'Timisoara', 'Lugoj', 'Mehadia', 'Drobeta']]\n",
      "[[504, 'Arad', 'Sibiu', 'Rimnicu Vilcea', 'Craiova', 'Pitesti'], [374, 'Arad', 'Timisoara', 'Lugoj', 'Mehadia', 'Drobeta']]\n",
      "[[374, 'Arad', 'Timisoara', 'Lugoj', 'Mehadia', 'Drobeta']]\n",
      "[418, ['Arad', 'Sibiu', 'Rimnicu Vilcea', 'Pitesti', 'Bucharest']]\n"
     ]
    }
   ],
   "source": [
    "# Try it out!\n",
    "# Find a path from Arad to Bucharest in the Romannian map using BFS\n",
    "\n",
    "solutions =uniform_cost_search(romanian_graph, 'Arad', 'Bucharest')\n",
    "print(solutions[0])"
   ]
  },
  {
   "cell_type": "code",
   "execution_count": 15,
   "metadata": {
    "scrolled": true
   },
   "outputs": [
    {
     "name": "stdout",
     "output_type": "stream",
     "text": [
      "[366, ['Arad', 'Sibiu', 'Rimnicu Vilcea', 'Craiova']]\n"
     ]
    }
   ],
   "source": [
    "# Find a path from Arad to Craiova in the Romannian map using uniform-cost search\n",
    "\n",
    "solutions =uniform_cost_search(romanian_graph, 'Arad', 'Craiova')\n",
    "print(solutions[0])"
   ]
  },
  {
   "cell_type": "code",
   "execution_count": 16,
   "metadata": {},
   "outputs": [
    {
     "name": "stdout",
     "output_type": "stream",
     "text": [
      "[677, ['Arad', 'Sibiu', 'Fagaras', 'Bucharest', 'Urzicenzi', 'Vaslui']]\n"
     ]
    }
   ],
   "source": [
    "# Find a path from Arad to Vaslui in the Romannian map using uniform-cost search\n",
    "\n",
    "solutions =uniform_cost_search(romanian_graph, 'Arad', 'Vaslui')\n",
    "print(solutions[0])"
   ]
  },
  {
   "cell_type": "markdown",
   "metadata": {},
   "source": [
    "### Compare the path and cost found using the three methods, what is your observation? Explain the differences using what you learnt from the lecture."
   ]
  },
  {
   "cell_type": "code",
   "execution_count": null,
   "metadata": {},
   "outputs": [],
   "source": [
    "#For the number of solutions, both bfs and dfs will stop searhing once one solution is found. It may not be the optimal solution \n",
    "\n",
    "#While for uniformed-search algo, it will find all the solutions and choose the optimal one.\n"
   ]
  },
  {
   "cell_type": "code",
   "execution_count": null,
   "metadata": {},
   "outputs": [],
   "source": []
  },
  {
   "cell_type": "markdown",
   "metadata": {},
   "source": [
    "## 7. Greedy Search\n",
    "In greedy search, we need to define a **`heuristic function`** $h(n)$ that tells us the estimated cost of the cheapest path from a particular state to a goal state. In this path-finding problem, we make it simpler by using another `dict` to store the straight-line distance from each city to our goal, Bucharest."
   ]
  },
  {
   "cell_type": "code",
   "execution_count": 23,
   "metadata": {},
   "outputs": [],
   "source": [
    "def sld_to_bucharest(city):\n",
    "    \"\"\"This function returns the straight-line distance from the given city to Bucharest.\"\"\"\n",
    "    sld = {\n",
    "        'Arad': 366,\n",
    "        'Bucharest': 0,\n",
    "        'Craiova': 160,\n",
    "        'Drobeta': 242,\n",
    "        'Eforie': 161,\n",
    "        'Fagaras': 176,\n",
    "        'Giurgiu': 77,\n",
    "        'Hirsova': 151,\n",
    "        'Iasi': 226,\n",
    "        'Lugoj': 244,\n",
    "        'Mehadia': 241,\n",
    "        'Neamt': 234,\n",
    "        'Oradea': 380,\n",
    "        'Pitesti': 100,\n",
    "        'Rimnicu Vilcea': 193,\n",
    "        'Sibiu': 253,\n",
    "        'Timisoara': 329,\n",
    "        'Urzicenzi': 80,\n",
    "        'Vaslui': 199,\n",
    "        'Zerind': 374\n",
    "    }\n",
    "    return sld[city]"
   ]
  },
  {
   "cell_type": "markdown",
   "metadata": {},
   "source": [
    "#### Hint: Find the element with the lowest $h(n)$ in a given list"
   ]
  },
  {
   "cell_type": "code",
   "execution_count": 46,
   "metadata": {},
   "outputs": [
    {
     "name": "stdout",
     "output_type": "stream",
     "text": [
      "[366, 161, 380]\n",
      "The index of the closest city is: 1\n",
      "The closest city is: Eforie\n",
      "The distance is: 161\n",
      "The remaining elements in `cities` are: ['Arad', 'Oradea']\n"
     ]
    }
   ],
   "source": [
    "# Suppose given the following cities\n",
    "cities = ['Arad', 'Eforie', 'Oradea']\n",
    "\n",
    "# We would like to pop the city that is closest to Bucharest from this list using the above sld_to_bucharest function.\n",
    "# first, we can construct a list that contains the distance from each city to Bucharest.\n",
    "dist = []\n",
    "for city in cities:\n",
    "    dist.append(sld_to_bucharest(city))\n",
    "\n",
    "# now we have a list of distances from each city to Bucharest.\n",
    "print(dist)\n",
    "\n",
    "# then, we can find the index of the minimum value.\n",
    "# min(dist) returns the minimum value in the dist list, \n",
    "# dist.index() finds the index of the given value\n",
    "idx = dist.index(min(dist))\n",
    "print('The index of the closest city is:', idx)\n",
    "\n",
    "# then we can pop the city using the index found.\n",
    "closest_city = cities.pop(idx)\n",
    "print('The closest city is:', closest_city)\n",
    "print('The distance is:', sld_to_bucharest(closest_city))\n",
    "print('The remaining elements in `cities` are:', cities)"
   ]
  },
  {
   "cell_type": "code",
   "execution_count": 143,
   "metadata": {},
   "outputs": [
    {
     "name": "stdout",
     "output_type": "stream",
     "text": [
      "[('Sibiu', 99), ('Bucharest', 211)]\n",
      "[['Sibiu', 253], ['Bucharest', 0]]\n",
      "[('Sibiu', 99), ('Bucharest', 211)]\n"
     ]
    }
   ],
   "source": [
    "actions = romanian_graph['Fagaras'] # get the possible actions\n",
    "actions \n",
    "print(actions)\n",
    "greed_nodes = []\n",
    "for next_node,next_cost in actions:\n",
    "    greed_nodes.append([next_node,sld_to_bucharest(next_node)])\n",
    "    \n",
    "print(greed_nodes )\n",
    "print(sorted(actions,reverse=True,key=lambda item: (sld_to_bucharest(item[0]))))\n"
   ]
  },
  {
   "cell_type": "markdown",
   "metadata": {},
   "source": [
    "### *Try it out!*\n",
    "The difference between greedy search and BFS is that we expand the node with *lowest* $h(n)$. Copy the bfs function, rename it to `greedy_search` and modify it with the help of the heuristic function we defined above to perform greedy search."
   ]
  },
  {
   "cell_type": "code",
   "execution_count": 144,
   "metadata": {},
   "outputs": [],
   "source": [
    "def greedy_search(graph_to_search, initial_state, goal_state, heuristics_function, verbose=False):\n",
    "    # We add one more argument, heuristics_function, to allow different heuristic functions to be used\n",
    "    # without changing the implementation source codes.\n",
    "    frontiers = [[0, initial_state]]  # the frontier list only has the initial state, with a cost of 0.    \n",
    "    visited = []\n",
    "    while len(frontiers) > 0:   # use while loop to iteratively perform search\n",
    "        if verbose:  # print out detailed information in each iteration\n",
    "            print('Frontiers (paths):')\n",
    "            for x in frontiers:\n",
    "                print('  -', x)\n",
    "            print('Visited:', visited)\n",
    "            print('\\n')\n",
    "        \n",
    "        \n",
    "        path = frontiers.pop(-1)  # Get the last element in the list        \n",
    "        node = path[-1]  # Get the last node in this path\n",
    "        if node in visited:  # check if we have expanded this node, if yes then skip this\n",
    "            continue\n",
    "        actions = graph_to_search[node] # get the possible actions\n",
    "        for next_node, next_cost in sorted(actions,reverse=True,key=lambda item: (heuristics_function(item[0]))):\n",
    "            new_path = path.copy()\n",
    "            new_path.append(next_node)\n",
    "            new_path[0] = new_path[0] + next_cost   \n",
    "            if next_node in visited or new_path in frontiers:\n",
    "                continue  # skip this node if it is already in the frontiers or the visited list.\n",
    "            \n",
    "            # check if we reached the goal state or not\n",
    "            if next_node == goal_state:\n",
    "                goal_path = new_path[1:]\n",
    "                goal_cost = new_path[0]\n",
    "                return goal_path, goal_cost  # if yes, we can return this path and its cost\n",
    "            else:\n",
    "                frontiers.append(new_path)  # add to the frontiers\n",
    "        \n",
    "        # after exploring all actions, we add this node to the visited list\n",
    "        \n",
    "            \n",
    "        visited.append(node)\n",
    "        "
   ]
  },
  {
   "cell_type": "code",
   "execution_count": 145,
   "metadata": {
    "scrolled": true
   },
   "outputs": [
    {
     "name": "stdout",
     "output_type": "stream",
     "text": [
      "Frontiers (paths):\n",
      "  - [0, 'Arad']\n",
      "Visited: []\n",
      "\n",
      "\n",
      "Frontiers (paths):\n",
      "  - [75, 'Arad', 'Zerind']\n",
      "  - [118, 'Arad', 'Timisoara']\n",
      "  - [140, 'Arad', 'Sibiu']\n",
      "Visited: ['Arad']\n",
      "\n",
      "\n",
      "Frontiers (paths):\n",
      "  - [75, 'Arad', 'Zerind']\n",
      "  - [118, 'Arad', 'Timisoara']\n",
      "  - [291, 'Arad', 'Sibiu', 'Oradea']\n",
      "  - [220, 'Arad', 'Sibiu', 'Rimnicu Vilcea']\n",
      "  - [239, 'Arad', 'Sibiu', 'Fagaras']\n",
      "Visited: ['Arad', 'Sibiu']\n",
      "\n",
      "\n",
      "The solution is: ['Arad', 'Sibiu', 'Fagaras', 'Bucharest']\n",
      "The cost is: 450\n"
     ]
    }
   ],
   "source": [
    "# Run this after you implement the algorithm, see if it gives you the correct answer.\n",
    "# Find a path from Arad to Bucharest in the Romannian map using greedy search\n",
    "\n",
    "path, cost = greedy_search(romanian_graph, 'Arad', 'Bucharest', heuristics_function=sld_to_bucharest, verbose=True)\n",
    "print('The solution is:', path)\n",
    "print('The cost is:', cost)"
   ]
  },
  {
   "cell_type": "markdown",
   "metadata": {
    "id": "WfZ9w0h3yRSm"
   },
   "source": [
    "## 8. A* Search\n",
    "For A* search, we compute the sum of the cost of the path $g(n)$ and the heuristic function $h(n)$, and select the node with *lowest* $h(n)+g(n)$ to expand. Besides, similar to the uniform-cost search, we check the goal state when we **expand it**.  Copy the greedy search function, rename it to `a_star_search` and modify it to perform greedy search. You could make reference to the unifrom-cost search codes to check the goal state when expanding the node."
   ]
  },
  {
   "cell_type": "markdown",
   "metadata": {},
   "source": [
    "### *Try it out!*\n",
    "Copy the greedy function, rename it to `a_star_search` and modify it to perform A* search."
   ]
  },
  {
   "cell_type": "code",
   "execution_count": 151,
   "metadata": {},
   "outputs": [],
   "source": [
    "def a_star_search(graph_to_search, initial_state, goal_state, heuristics_function, verbose=False):\n",
    "    # We add one more argument, heuristics_function, to allow different heuristic functions to be used\n",
    "    # without changing the implementation source codes.\n",
    "    frontiers = [[0, initial_state]]  # the frontier list only has the initial state, with a cost of 0.    \n",
    "    visited = []\n",
    "    while len(frontiers) > 0:   # use while loop to iteratively perform search\n",
    "        if verbose:  # print out detailed information in each iteration\n",
    "            print('Frontiers (paths):')\n",
    "            for x in frontiers:\n",
    "                print('  -', x)\n",
    "            print('Visited:', visited)\n",
    "            print('\\n')\n",
    "        \n",
    "        \n",
    "        path = frontiers.pop(-1)  # Get the last element in the list        \n",
    "        node = path[-1]  # Get the last node in this path\n",
    "        if node in visited:  # check if we have expanded this node, if yes then skip this\n",
    "            continue\n",
    "        actions = graph_to_search[node] # get the possible actions\n",
    "        for next_node, next_cost in sorted(actions,reverse=True,key=lambda item: (heuristics_function(item[0])+item[1])):\n",
    "            new_path = path.copy()\n",
    "            new_path.append(next_node)\n",
    "            new_path[0] = new_path[0] + next_cost   \n",
    "            if next_node in visited or new_path in frontiers:\n",
    "                continue  # skip this node if it is already in the frontiers or the visited list.\n",
    "            \n",
    "            # check if we reached the goal state or not\n",
    "            if next_node == goal_state:\n",
    "                goal_path = new_path[1:]\n",
    "                goal_cost = new_path[0]\n",
    "                return goal_path, goal_cost  # if yes, we can return this path and its cost\n",
    "            else:\n",
    "                frontiers.append(new_path)  # add to the frontiers\n",
    "        \n",
    "        # after exploring all actions, we add this node to the visited list\n",
    "        \n",
    "            \n",
    "        visited.append(node)\n",
    "        "
   ]
  },
  {
   "cell_type": "code",
   "execution_count": 152,
   "metadata": {
    "id": "aC7bwiYgH78J"
   },
   "outputs": [
    {
     "name": "stdout",
     "output_type": "stream",
     "text": [
      "Frontiers (paths):\n",
      "  - [0, 'Arad']\n",
      "Visited: []\n",
      "\n",
      "\n",
      "Frontiers (paths):\n",
      "  - [75, 'Arad', 'Zerind']\n",
      "  - [118, 'Arad', 'Timisoara']\n",
      "  - [140, 'Arad', 'Sibiu']\n",
      "Visited: ['Arad']\n",
      "\n",
      "\n",
      "Frontiers (paths):\n",
      "  - [75, 'Arad', 'Zerind']\n",
      "  - [118, 'Arad', 'Timisoara']\n",
      "  - [291, 'Arad', 'Sibiu', 'Oradea']\n",
      "  - [239, 'Arad', 'Sibiu', 'Fagaras']\n",
      "  - [220, 'Arad', 'Sibiu', 'Rimnicu Vilcea']\n",
      "Visited: ['Arad', 'Sibiu']\n",
      "\n",
      "\n",
      "Frontiers (paths):\n",
      "  - [75, 'Arad', 'Zerind']\n",
      "  - [118, 'Arad', 'Timisoara']\n",
      "  - [291, 'Arad', 'Sibiu', 'Oradea']\n",
      "  - [239, 'Arad', 'Sibiu', 'Fagaras']\n",
      "  - [366, 'Arad', 'Sibiu', 'Rimnicu Vilcea', 'Craiova']\n",
      "  - [317, 'Arad', 'Sibiu', 'Rimnicu Vilcea', 'Pitesti']\n",
      "Visited: ['Arad', 'Sibiu', 'Rimnicu Vilcea']\n",
      "\n",
      "\n",
      "The solution is: ['Arad', 'Sibiu', 'Rimnicu Vilcea', 'Pitesti', 'Bucharest']\n",
      "The cost is: 418\n"
     ]
    }
   ],
   "source": [
    "# Try it out!\n",
    "# Find a path from Arad to Bucharest in the Romannian map using A* search\n",
    "\n",
    "path, cost = path, cost = a_star_search(romanian_graph, 'Arad', 'Bucharest', heuristics_function=sld_to_bucharest, verbose=True)\n",
    "print('The solution is:', path)\n",
    "print('The cost is:', cost)"
   ]
  },
  {
   "cell_type": "markdown",
   "metadata": {},
   "source": [
    "### What happens if we have a heuristic function that overestimates the cost?"
   ]
  },
  {
   "cell_type": "markdown",
   "metadata": {},
   "source": [
    "### *Try it out!*\n",
    "Define a heuristic function that returns the doubled straight-line distance from each city to Bucharest. Hint: you do not need to recode the dict again, just make use of the predefined `sld_to_bucharest` function."
   ]
  },
  {
   "cell_type": "code",
   "execution_count": 155,
   "metadata": {},
   "outputs": [],
   "source": [
    "def sld_to_bucharest_doubled(city):\n",
    "    return 2*sld_to_bucharest(city)"
   ]
  },
  {
   "cell_type": "markdown",
   "metadata": {},
   "source": [
    "Perform A* search using this new heuristic function to find a way from Arad to Bucharest."
   ]
  },
  {
   "cell_type": "code",
   "execution_count": 156,
   "metadata": {},
   "outputs": [
    {
     "name": "stdout",
     "output_type": "stream",
     "text": [
      "Frontiers (paths):\n",
      "  - [0, 'Arad']\n",
      "Visited: []\n",
      "\n",
      "\n",
      "Frontiers (paths):\n",
      "  - [75, 'Arad', 'Zerind']\n",
      "  - [118, 'Arad', 'Timisoara']\n",
      "  - [140, 'Arad', 'Sibiu']\n",
      "Visited: ['Arad']\n",
      "\n",
      "\n",
      "Frontiers (paths):\n",
      "  - [75, 'Arad', 'Zerind']\n",
      "  - [118, 'Arad', 'Timisoara']\n",
      "  - [291, 'Arad', 'Sibiu', 'Oradea']\n",
      "  - [220, 'Arad', 'Sibiu', 'Rimnicu Vilcea']\n",
      "  - [239, 'Arad', 'Sibiu', 'Fagaras']\n",
      "Visited: ['Arad', 'Sibiu']\n",
      "\n",
      "\n",
      "The solution is: ['Arad', 'Sibiu', 'Fagaras', 'Bucharest']\n",
      "The cost is: 450\n"
     ]
    }
   ],
   "source": [
    "path, cost = path, cost = path, cost = a_star_search(romanian_graph, 'Arad', 'Bucharest', heuristics_function=sld_to_bucharest_doubled, verbose=True)\n",
    "print('The solution is:', path)\n",
    "print('The cost is:', cost)"
   ]
  },
  {
   "cell_type": "markdown",
   "metadata": {},
   "source": [
    "### Compare the results of using the two different heuristic functions, what are your observations? Try to explain the differences using what we learnt from the lectures."
   ]
  },
  {
   "cell_type": "code",
   "execution_count": null,
   "metadata": {},
   "outputs": [],
   "source": []
  }
 ],
 "metadata": {
  "authors": [
   {
    "email": "cskjyin@comp.hkbu.edu.hk",
    "name": "Dr. Kejing Yin"
   }
  ],
  "kernelspec": {
   "display_name": "Python 3",
   "language": "python",
   "name": "python3"
  },
  "language_info": {
   "codemirror_mode": {
    "name": "ipython",
    "version": 3
   },
   "file_extension": ".py",
   "mimetype": "text/x-python",
   "name": "python",
   "nbconvert_exporter": "python",
   "pygments_lexer": "ipython3",
   "version": "3.8.8"
  },
  "title": "COMP7015 Lab 1: Solving Problems using Search",
  "vscode": {
   "interpreter": {
    "hash": "f90bbf7985f2e386e054d57f9f24ffeb163cbc33ce80b1a859df2b0f2c9d1e26"
   }
  }
 },
 "nbformat": 4,
 "nbformat_minor": 1
}
