{
 "cells": [
  {
   "cell_type": "markdown",
   "metadata": {
    "id": "TyAOYoST9iA6"
   },
   "source": [
    "# Lists\n",
    "\n",
    "A list in Python is an ordered (and indexed) collection of objects"
   ]
  },
  {
   "cell_type": "markdown",
   "metadata": {
    "id": "cCAPPQu0qfxU"
   },
   "source": [
    "**Create a list using a common way, just add them to [   ]** E1\n",
    "\n",
    "---\n",
    "\n"
   ]
  },
  {
   "cell_type": "code",
   "execution_count": 5,
   "metadata": {
    "id": "gaCgbJGSqyWM"
   },
   "outputs": [
    {
     "name": "stdout",
     "output_type": "stream",
     "text": [
      "[1, 'This is a list', 'ABSD', 1.5, ['ONE', 2, 3]]\n"
     ]
    }
   ],
   "source": [
    "A = [1, \"This is a list\", 'ABSD', 1.5,['ONE',2,3]]\n",
    "print(A)"
   ]
  },
  {
   "cell_type": "markdown",
   "metadata": {
    "id": "uQdiM2r87Q7b"
   },
   "source": [
    "**Create a list using for loop** E2"
   ]
  },
  {
   "cell_type": "code",
   "execution_count": 7,
   "metadata": {
    "colab": {
     "base_uri": "https://localhost:8080/"
    },
    "id": "g7kI4mdxpRwZ",
    "outputId": "466eb0f1-9214-4c42-8622-62437ab7e5b2"
   },
   "outputs": [
    {
     "name": "stdout",
     "output_type": "stream",
     "text": [
      "[0, 1, 2, 3, 4, 5, 6]\n",
      "[range(0, 7)]\n",
      "[0, 1, 2, 3, 4, 5, 6]\n"
     ]
    }
   ],
   "source": [
    "x = [i for i in range(7)]\n",
    "print(x)\n",
    "y= [range(7)]\n",
    "print(y)\n",
    "y= [*range(7)]\n",
    "print(y)"
   ]
  },
  {
   "cell_type": "markdown",
   "metadata": {
    "id": "pFC9fPvrq9XK"
   },
   "source": [
    "**Access list** E3"
   ]
  },
  {
   "cell_type": "code",
   "execution_count": 13,
   "metadata": {
    "colab": {
     "base_uri": "https://localhost:8080/"
    },
    "id": "qALWys163n6N",
    "outputId": "fd4530d5-3061-4863-d7ea-cbb48a9531b1"
   },
   "outputs": [
    {
     "name": "stdout",
     "output_type": "stream",
     "text": [
      "First element: 5\n",
      "Second element: 2.3\n",
      "Third element: Hello\n",
      "Last element: ['H', 'H']\n",
      "Last element: ['H', 'H']\n",
      "First element: 5\n"
     ]
    }
   ],
   "source": [
    "MYL = [5, 2.3, 'Hello',['H','H']]\n",
    "print(\"First element:\", MYL[0])\n",
    "print(\"Second element:\", MYL[1])\n",
    "print(\"Third element:\", MYL[2])\n",
    "print(\"Last element:\", MYL[3])\n",
    "print(\"Last element:\", MYL[-1])\n",
    "print(\"First element:\", MYL[-4])"
   ]
  },
  {
   "cell_type": "code",
   "execution_count": null,
   "metadata": {
    "colab": {
     "base_uri": "https://localhost:8080/",
     "height": 183
    },
    "id": "RTEuHIuvFSAi",
    "outputId": "4bc116bb-6da1-4854-c6e8-4c496dd9a1ff"
   },
   "outputs": [
    {
     "ename": "IndexError",
     "evalue": "ignored",
     "output_type": "error",
     "traceback": [
      "\u001b[0;31m---------------------------------------------------------------------------\u001b[0m",
      "\u001b[0;31mIndexError\u001b[0m                                Traceback (most recent call last)",
      "\u001b[0;32m<ipython-input-4-addca23e32be>\u001b[0m in \u001b[0;36m<module>\u001b[0;34m\u001b[0m\n\u001b[1;32m      1\u001b[0m \u001b[0mmyList\u001b[0m \u001b[0;34m=\u001b[0m \u001b[0;34m[\u001b[0m\u001b[0;36m5\u001b[0m\u001b[0;34m,\u001b[0m \u001b[0;36m2.3\u001b[0m\u001b[0;34m,\u001b[0m \u001b[0;34m'Hello'\u001b[0m\u001b[0;34m]\u001b[0m\u001b[0;34m\u001b[0m\u001b[0;34m\u001b[0m\u001b[0m\n\u001b[0;32m----> 2\u001b[0;31m \u001b[0mprint\u001b[0m\u001b[0;34m(\u001b[0m\u001b[0mmyList\u001b[0m\u001b[0;34m[\u001b[0m\u001b[0;36m3\u001b[0m\u001b[0;34m]\u001b[0m\u001b[0;34m)\u001b[0m\u001b[0;34m\u001b[0m\u001b[0;34m\u001b[0m\u001b[0m\n\u001b[0m",
      "\u001b[0;31mIndexError\u001b[0m: list index out of range"
     ]
    }
   ],
   "source": [
    "#E3-1\n",
    "MYL = [5, 2.3, 'Hello']\n",
    "print(MYL[3])\n"
   ]
  },
  {
   "cell_type": "markdown",
   "metadata": {
    "id": "cA2W94eo9iA6"
   },
   "source": [
    "**You can iterate over lists in a very natural way** E4"
   ]
  },
  {
   "cell_type": "code",
   "execution_count": null,
   "metadata": {
    "colab": {
     "base_uri": "https://localhost:8080/"
    },
    "id": "BstbG3pl9iA6",
    "outputId": "5dca3ab9-8050-48e2-e5a5-c1a04e033c87"
   },
   "outputs": [
    {
     "name": "stdout",
     "output_type": "stream",
     "text": [
      "5\n",
      "2.3\n",
      "Hello\n"
     ]
    }
   ],
   "source": [
    "for elt in [5, 2.3,'Hello']:\n",
    "    print(elt)"
   ]
  },
  {
   "cell_type": "code",
   "execution_count": 15,
   "metadata": {
    "colab": {
     "base_uri": "https://localhost:8080/"
    },
    "id": "D-YcbGYR9iA6",
    "outputId": "4e5ca546-2cb0-4ec2-d5e9-a3fb7451d01d"
   },
   "outputs": [
    {
     "name": "stdout",
     "output_type": "stream",
     "text": [
      "['x', 1, 3.5, [1, 2, 3, 'w']]\n",
      "x\n",
      "[1, 2, 3, 'w']\n",
      "3\n"
     ]
    }
   ],
   "source": [
    "#One more example about how to access the element in a list here\n",
    "a = ['x', 1, 3.5,[1,2,3,'w']]\n",
    "print(a)\n",
    "print(a[0])\n",
    "print(a[3])\n",
    "print(a[3][2])"
   ]
  },
  {
   "cell_type": "markdown",
   "metadata": {
    "id": "4u8QC35yvBX8"
   },
   "source": [
    "**Slicing and adding** E5"
   ]
  },
  {
   "cell_type": "code",
   "execution_count": null,
   "metadata": {
    "colab": {
     "base_uri": "https://localhost:8080/"
    },
    "id": "5oeAnV6T7ZKZ",
    "outputId": "2cdca373-72f0-4e77-eaf0-312e175c7067"
   },
   "outputs": [
    {
     "name": "stdout",
     "output_type": "stream",
     "text": [
      "slicedList: [5, 2.3]\n",
      "concatList: [5, 2.3, 'hello', 'a', '3']\n"
     ]
    }
   ],
   "source": [
    "myList = [5, 2.3, 'hello'] \n",
    "slicedlist = myList[0:2] # [5, 2.3]  this is used to slice a list\n",
    "mySecondList = ['a', '3'] \n",
    "concatList = myList + mySecondList # [5, 2.3, 'hello', 'a', '3'] the two lists are added here\n",
    "\n",
    "print(\"slicedList:\", slicedlist)\n",
    "print(\"concatList:\", concatList)"
   ]
  },
  {
   "cell_type": "markdown",
   "metadata": {
    "id": "xLqL285hvSpZ"
   },
   "source": [
    "**Multiplication** E6"
   ]
  },
  {
   "cell_type": "code",
   "execution_count": null,
   "metadata": {
    "colab": {
     "base_uri": "https://localhost:8080/"
    },
    "id": "iifSwapz7s3u",
    "outputId": "45b0bb08-2bbe-4f30-cf51-20000be2c2f1"
   },
   "outputs": [
    {
     "name": "stdout",
     "output_type": "stream",
     "text": [
      "['hello', 'world', 'hello', 'world']\n",
      "['hello', 'world', 'hello', 'world', 'hello', 'world']\n"
     ]
    }
   ],
   "source": [
    "myList = ['hello', 'world'] \n",
    "print(myList * 2)\n",
    "print(myList * 3) "
   ]
  },
  {
   "cell_type": "markdown",
   "metadata": {
    "id": "v0N0KTM0vW3p"
   },
   "source": [
    "**Lists are mutatable** E7"
   ]
  },
  {
   "cell_type": "code",
   "execution_count": null,
   "metadata": {
    "colab": {
     "base_uri": "https://localhost:8080/"
    },
    "id": "1jOX4fbB8L4P",
    "outputId": "868d78d6-9b45-437f-e7a2-01414a23f54c"
   },
   "outputs": [
    {
     "name": "stdout",
     "output_type": "stream",
     "text": [
      "[-3, 43, 1.234]\n"
     ]
    }
   ],
   "source": [
    "#Lists are mutatable\n",
    "myList = ['a', 43, 1.234] \n",
    "myList[0] = -3 # [-3, 43, 1.234]\n",
    "print(myList)"
   ]
  },
  {
   "cell_type": "markdown",
   "metadata": {
    "id": "BaHbaETTvj-o"
   },
   "source": [
    "**Shallow Copy a list** E8       "
   ]
  },
  {
   "cell_type": "code",
   "execution_count": null,
   "metadata": {
    "colab": {
     "base_uri": "https://localhost:8080/"
    },
    "id": "Uzs5UKux819O",
    "outputId": "81729463-89fa-4b76-ea29-f9f7086dac28"
   },
   "outputs": [
    {
     "name": "stdout",
     "output_type": "stream",
     "text": [
      "['a', 'b', 'c']\n",
      "['a', 1, 'c']\n",
      "['a', 1, 'c']\n"
     ]
    }
   ],
   "source": [
    "# Can We copy a list\n",
    "a = ['a', 'b', 'c'] \n",
    "b = a # let’s copy list1 \n",
    "print(b) \n",
    "b[1] = 1 # now we want to change an element \n",
    "print(b) # [’a’, 1, ’c’] \n",
    "print(a) # [’a’, 1, ’c’]"
   ]
  },
  {
   "cell_type": "markdown",
   "metadata": {
    "id": "uM8qsR2GB6nZ"
   },
   "source": [
    "(deep copy) Try some different ways like List.copy() E9   "
   ]
  },
  {
   "cell_type": "code",
   "execution_count": 16,
   "metadata": {
    "colab": {
     "base_uri": "https://localhost:8080/"
    },
    "id": "dtfhYB409iA9",
    "outputId": "b59ab258-3c99-4571-8fa8-6477e66ed18e"
   },
   "outputs": [
    {
     "name": "stdout",
     "output_type": "stream",
     "text": [
      "original a: ['a', 'b', 'c']\n",
      "original b: ['a', 'b', 'c']\n",
      "after edit...\n",
      "a: ['a', 'b', 'c']\n",
      "b: ['edited', 'b', 'c']\n"
     ]
    }
   ],
   "source": [
    "a = ['a', 'b', 'c']\n",
    "b = a.copy() # deep\n",
    "print(\"original a:\", a)\n",
    "print(\"original b:\", b)\n",
    "b[0] = \"edited\"\n",
    "print(\"after edit...\")\n",
    "print(\"a:\", a)\n",
    "print(\"b:\", b)"
   ]
  },
  {
   "cell_type": "markdown",
   "metadata": {
    "id": "gXCqbTQ-UZla"
   },
   "source": [
    "#Methods of List"
   ]
  },
  {
   "cell_type": "markdown",
   "metadata": {
    "id": "io7A5aMJ9iA7"
   },
   "source": [
    "You can append to lists using `.append()`, and do other operations, such as `pop\n",
    "()`, `insert()`, etc."
   ]
  },
  {
   "cell_type": "code",
   "execution_count": null,
   "metadata": {
    "colab": {
     "base_uri": "https://localhost:8080/"
    },
    "id": "Gck3fScG9iA7",
    "outputId": "a5f5320e-cafc-4f61-a953-12ae98c2731d"
   },
   "outputs": [
    {
     "name": "stdout",
     "output_type": "stream",
     "text": [
      "[0, 1, 4, 9, 16, 25, 36, 49, 64, 81]\n"
     ]
    }
   ],
   "source": [
    "a = []\n",
    "for i in range(10):\n",
    "    a.append(i**2)\n",
    "print(a)"
   ]
  },
  {
   "cell_type": "code",
   "execution_count": null,
   "metadata": {
    "colab": {
     "base_uri": "https://localhost:8080/"
    },
    "id": "93pwxd-w9iA8",
    "outputId": "6621f107-f89b-42ec-d92f-5cec2827f5cb"
   },
   "outputs": [
    {
     "name": "stdout",
     "output_type": "stream",
     "text": [
      "[1, 2, 3, 'x', 'y']\n"
     ]
    }
   ],
   "source": [
    "a = [1,2,3]\n",
    "b = [\"x\", \"y\"]\n",
    "a.extend(b)\n",
    "print(a)"
   ]
  },
  {
   "cell_type": "code",
   "execution_count": 18,
   "metadata": {
    "colab": {
     "base_uri": "https://localhost:8080/"
    },
    "id": "g1bYVCSV9iA7",
    "outputId": "bdcb13ce-2b1c-4c9b-e809-29fd28d56e9d"
   },
   "outputs": [
    {
     "name": "stdout",
     "output_type": "stream",
     "text": [
      "Removed 2, a is now [1]\n",
      "Removed 1, a is now []\n"
     ]
    }
   ],
   "source": [
    "a = [1, 2]\n",
    "while len(a) > 0:\n",
    "    elt = a.pop()\n",
    "    print(f\"Removed {elt}, a is now {a}\") #f-string to "
   ]
  },
  {
   "cell_type": "code",
   "execution_count": null,
   "metadata": {
    "colab": {
     "base_uri": "https://localhost:8080/"
    },
    "id": "0XYGZH_69iA8",
    "outputId": "b311a173-c950-44db-e5ff-eb3b49f0136d"
   },
   "outputs": [
    {
     "name": "stdout",
     "output_type": "stream",
     "text": [
      "[1, 'new value', 2, 3]\n"
     ]
    }
   ],
   "source": [
    "a = [1,2,3]\n",
    "a.insert(1,'new value')\n",
    "print(a)"
   ]
  },
  {
   "cell_type": "code",
   "execution_count": null,
   "metadata": {
    "colab": {
     "base_uri": "https://localhost:8080/"
    },
    "id": "Xa077-x59iA8",
    "outputId": "ce130981-0ec2-480f-ad26-7de6c31126fb"
   },
   "outputs": [
    {
     "name": "stdout",
     "output_type": "stream",
     "text": [
      "[2, 3]\n"
     ]
    }
   ],
   "source": [
    "a = [1,2,3]\n",
    "a.remove(1)\n",
    "print(a)"
   ]
  },
  {
   "cell_type": "code",
   "execution_count": null,
   "metadata": {
    "colab": {
     "base_uri": "https://localhost:8080/"
    },
    "id": "Ipo0L3mZArIc",
    "outputId": "754e24a3-6a07-453b-dad5-ce066b06a821"
   },
   "outputs": [
    {
     "name": "stdout",
     "output_type": "stream",
     "text": [
      "[5, 6, 7, 8, 9, 10]\n"
     ]
    }
   ],
   "source": [
    "d = [5, 6, 9, 8, 7, 10]\n",
    "d.sort()\n",
    "print(d)"
   ]
  },
  {
   "cell_type": "markdown",
   "metadata": {
    "id": "IOveZd2VC6QW"
   },
   "source": [
    "#Other useful methods in List"
   ]
  },
  {
   "cell_type": "code",
   "execution_count": null,
   "metadata": {
    "colab": {
     "base_uri": "https://localhost:8080/"
    },
    "id": "ZWyiITNJd65W",
    "outputId": "968e9a19-0e82-4a32-915e-8d2d93a6e511"
   },
   "outputs": [
    {
     "name": "stdout",
     "output_type": "stream",
     "text": [
      "Result 1: 2\n",
      "Result 2: 1\n",
      "Result 3: 0\n",
      "Result 4: 0\n",
      "Result 5: [1234.5, 1, 333, 333, 66.25]\n",
      "Result 6: [1, 66.25, 333, 333, 1234.5]\n"
     ]
    }
   ],
   "source": [
    "a = [66.25, 333, 333, 1, 1234.5]\n",
    "print(\"Result 1:\", a.count(333)) \n",
    "print(\"Result 2:\", a.count(66.25))\n",
    "print(\"Result 3:\", a.count('x'))\n",
    "print(\"Result 4:\", a.index(66.25))\n",
    "a.reverse()\n",
    "print(\"Result 5:\", a)\n",
    "a.sort()\n",
    "print(\"Result 6:\", a)"
   ]
  },
  {
   "cell_type": "markdown",
   "metadata": {
    "id": "6YKI6czw1JmT"
   },
   "source": []
  },
  {
   "cell_type": "markdown",
   "metadata": {
    "id": "E96u3qoR9iA9"
   },
   "source": [
    "## List Comprehensions\n",
    "\n",
    "Python's list comprehensions let you create lists in a way that is reminiscent of set notation\n",
    "\n",
    "$$ S = \\{ x ~\\mid~ 0 \\le x \\le 20, x\\mod 3 = 0\\}$$"
   ]
  },
  {
   "cell_type": "code",
   "execution_count": null,
   "metadata": {
    "colab": {
     "base_uri": "https://localhost:8080/"
    },
    "id": "KW1-SKWI9iA-",
    "outputId": "d144282b-f2fa-4fb4-d7b7-808332db0c9a"
   },
   "outputs": [
    {
     "name": "stdout",
     "output_type": "stream",
     "text": [
      "[0, 3, 6, 9, 12, 15, 18]\n"
     ]
    }
   ],
   "source": [
    "S= []\n",
    "for x in range(21):\n",
    "    if x % 3 == 0:\n",
    "        S.append(x)\n",
    "print(S)"
   ]
  },
  {
   "cell_type": "markdown",
   "metadata": {
    "id": "UaTktXE-9iA-"
   },
   "source": [
    "# Other Collections\n",
    "\n",
    "We've seen the `list` class, which is ordered, indexed, and mutable.  There are other Python collections that you may find useful:\n",
    "* `tuple` which is ordered, indexed, and immutable\n",
    "* `set` which is unordered, unindexed, mutable, and doesn't allow for duplicate elements\n",
    "* `dict` (dictionary), which is unordered, indexed, and mutable, with no duplicate keys."
   ]
  },
  {
   "cell_type": "code",
   "execution_count": null,
   "metadata": {
    "colab": {
     "base_uri": "https://localhost:8080/",
     "height": 183
    },
    "id": "amjVK_Vi9iA_",
    "outputId": "4d556fb4-f90c-4f2e-d42d-10075555f110"
   },
   "outputs": [
    {
     "ename": "TypeError",
     "evalue": "ignored",
     "output_type": "error",
     "traceback": [
      "\u001b[0;31m---------------------------------------------------------------------------\u001b[0m",
      "\u001b[0;31mTypeError\u001b[0m                                 Traceback (most recent call last)",
      "\u001b[0;32m<ipython-input-38-aeaec37dae9e>\u001b[0m in \u001b[0;36m<module>\u001b[0;34m\u001b[0m\n\u001b[1;32m      1\u001b[0m \u001b[0ma_tuple\u001b[0m \u001b[0;34m=\u001b[0m \u001b[0;34m(\u001b[0m\u001b[0;36m1\u001b[0m\u001b[0;34m,\u001b[0m \u001b[0;36m2\u001b[0m\u001b[0;34m,\u001b[0m \u001b[0;36m4\u001b[0m\u001b[0;34m)\u001b[0m\u001b[0;34m\u001b[0m\u001b[0;34m\u001b[0m\u001b[0m\n\u001b[0;32m----> 2\u001b[0;31m \u001b[0ma_tuple\u001b[0m\u001b[0;34m[\u001b[0m\u001b[0;36m0\u001b[0m\u001b[0;34m]\u001b[0m \u001b[0;34m=\u001b[0m \u001b[0;36m3\u001b[0m\u001b[0;34m\u001b[0m\u001b[0;34m\u001b[0m\u001b[0m\n\u001b[0m",
      "\u001b[0;31mTypeError\u001b[0m: 'tuple' object does not support item assignment"
     ]
    }
   ],
   "source": [
    "a_tuple = (1, 2, 4)\n",
    "a_tuple[0] = 3"
   ]
  },
  {
   "cell_type": "code",
   "execution_count": 19,
   "metadata": {
    "colab": {
     "base_uri": "https://localhost:8080/"
    },
    "id": "YHrvK0n6ipL0",
    "outputId": "e79d0f06-b28a-47d2-ebc7-ccfefa77af30"
   },
   "outputs": [
    {
     "name": "stdout",
     "output_type": "stream",
     "text": [
      "{'orange', 'pear', 'apple'}\n"
     ]
    }
   ],
   "source": [
    "Basket = ['apple', 'orange', 'apple', 'pear'] \n",
    "Fruit = set(Basket)    # from list to set \n",
    "print(Fruit)"
   ]
  },
  {
   "cell_type": "code",
   "execution_count": 20,
   "metadata": {
    "colab": {
     "base_uri": "https://localhost:8080/"
    },
    "id": "QAXFfmsH9iA_",
    "outputId": "a03011b6-f631-41e0-9347-0298519803f8"
   },
   "outputs": [
    {
     "name": "stdout",
     "output_type": "stream",
     "text": [
      "2\n",
      "3\n",
      "5\n"
     ]
    }
   ],
   "source": [
    "a_set = {5, 3, 2, 5}   #automatically deredundant\n",
    "for i in a_set:\n",
    "    print(i)"
   ]
  },
  {
   "cell_type": "code",
   "execution_count": 22,
   "metadata": {
    "colab": {
     "base_uri": "https://localhost:8080/"
    },
    "id": "b9D6zkW29iA_",
    "outputId": "d717fe2e-3faf-49ec-8c53-edd8b4e0d97f"
   },
   "outputs": [
    {
     "name": "stdout",
     "output_type": "stream",
     "text": [
      "{2, 3, 5, 6}\n"
     ]
    },
    {
     "data": {
      "text/plain": [
       "{2, 3, 5}"
      ]
     },
     "execution_count": 22,
     "metadata": {},
     "output_type": "execute_result"
    }
   ],
   "source": [
    "a_set.add(6)\n",
    "print(a_set)\n",
    "a_set.remove(6)\n",
    "a_set"
   ]
  },
  {
   "cell_type": "code",
   "execution_count": 23,
   "metadata": {
    "colab": {
     "base_uri": "https://localhost:8080/"
    },
    "id": "IWpwniqO9iA_",
    "outputId": "421a8d85-9aca-4843-88f3-f40229ebbb31"
   },
   "outputs": [
    {
     "data": {
      "text/plain": [
       "{5: 'new value', 'key_2': 28, 'key_3': [13, 'value']}"
      ]
     },
     "execution_count": 23,
     "metadata": {},
     "output_type": "execute_result"
    }
   ],
   "source": [
    "a_dict = {}      # for dict the key must be unique    \n",
    "a_dict[5] = 12   # take up more memory but faster  \n",
    "a_dict[\"key_2\"] = 27\n",
    "a_dict[\"key_3\"] = [13, \"value\"]\n",
    "a_dict[5] = \"new value\"\n",
    "a_dict[\"key_2\"] = 28\n",
    "a_dict"
   ]
  },
  {
   "cell_type": "code",
   "execution_count": null,
   "metadata": {},
   "outputs": [],
   "source": []
  }
 ],
 "metadata": {
  "colab": {
   "collapsed_sections": [],
   "provenance": []
  },
  "kernelspec": {
   "display_name": "Python 3",
   "language": "python",
   "name": "python3"
  },
  "language_info": {
   "codemirror_mode": {
    "name": "ipython",
    "version": 3
   },
   "file_extension": ".py",
   "mimetype": "text/x-python",
   "name": "python",
   "nbconvert_exporter": "python",
   "pygments_lexer": "ipython3",
   "version": "3.8.8"
  }
 },
 "nbformat": 4,
 "nbformat_minor": 1
}
